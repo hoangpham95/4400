{
 "cells": [
  {
   "cell_type": "code",
   "execution_count": null,
   "metadata": {},
   "outputs": [],
   "source": [
    "import pandas as pd\n",
    "import numpy as np"
   ]
  },
  {
   "cell_type": "code",
   "execution_count": null,
   "metadata": {},
   "outputs": [],
   "source": [
    "file = \"kc_house_data.csv\"\n",
    "data = pd.read_csv(file)"
   ]
  },
  {
   "cell_type": "code",
   "execution_count": null,
   "metadata": {},
   "outputs": [],
   "source": [
    "feature = data.drop(columns=['price'])"
   ]
  },
  {
   "cell_type": "code",
   "execution_count": null,
   "metadata": {},
   "outputs": [],
   "source": [
    "columns = ['bedrooms', 'bathrooms', \n",
    "           'sqft_living', 'sqft_lot', 'floors', \n",
    "           'waterfront', 'view', 'condition', \n",
    "           'grade', 'sqft_above', 'sqft_basement', \n",
    "           'yr_built', 'yr_renovated', \n",
    "           'lat', 'long', 'sqft_living15', 'sqft_lot15']"
   ]
  },
  {
   "cell_type": "markdown",
   "metadata": {},
   "source": [
    "## Question 1"
   ]
  },
  {
   "cell_type": "code",
   "execution_count": null,
   "metadata": {
    "scrolled": false
   },
   "outputs": [],
   "source": [
    "for c in columns:\n",
    "    col = feature[c]\n",
    "    print(f'Column {c} summary:')\n",
    "    print(f'- maximum {np.amax(col)}')\n",
    "    print(f'- minimum {np.amin(col)}')\n",
    "    print(f'- average {np.average(col)}')\n",
    "    print(f'- variance {np.var(col)}')\n",
    "    print('\\n')"
   ]
  },
  {
   "cell_type": "code",
   "execution_count": null,
   "metadata": {},
   "outputs": [],
   "source": [
    "corr = data.corr()['price']\n",
    "for c in columns:\n",
    "    print(f'Correlation price vs. {c}: {corr[c]}')"
   ]
  },
  {
   "cell_type": "code",
   "execution_count": null,
   "metadata": {},
   "outputs": [],
   "source": [
    "from sklearn.linear_model import LinearRegression\n",
    "\n",
    "lreg = LinearRegression()"
   ]
  },
  {
   "cell_type": "code",
   "execution_count": null,
   "metadata": {},
   "outputs": [],
   "source": [
    "print(data['price'].shape)\n",
    "print(feature.shape)"
   ]
  },
  {
   "cell_type": "code",
   "execution_count": null,
   "metadata": {},
   "outputs": [],
   "source": [
    "print(feature.info())"
   ]
  },
  {
   "cell_type": "code",
   "execution_count": null,
   "metadata": {},
   "outputs": [],
   "source": [
    "train = pd.read_csv('train.csv')\n",
    "lreg.fit(train.drop(columns=['Unnamed: 0', 'price', 'zipcode']), train['price'])"
   ]
  },
  {
   "cell_type": "code",
   "execution_count": null,
   "metadata": {},
   "outputs": [],
   "source": [
    "from sklearn.metrics import mean_squared_error, r2_score\n",
    "\n",
    "price_predicted = lreg.predict(train.drop(columns=['Unnamed: 0', 'price', 'zipcode']))\n",
    "\n",
    "mse = mean_squared_error(train['price'], price_predicted)\n",
    "rse = np.sqrt(mse)\n",
    "r2 = r2_score(train['price'], price_predicted)\n",
    "\n",
    "print(f'MSE {mse}')\n",
    "print(f'RSE {rse}')\n",
    "print(f'R2 {r2}')"
   ]
  },
  {
   "cell_type": "code",
   "execution_count": null,
   "metadata": {},
   "outputs": [],
   "source": [
    "print(f'Coefficients for linear regression\\n {lreg.coef_}')\n",
    "print(f'Coeff length {len(lreg.coef_)}')"
   ]
  },
  {
   "cell_type": "code",
   "execution_count": null,
   "metadata": {},
   "outputs": [],
   "source": [
    "from sklearn.preprocessing import StandardScaler\n",
    "scaler = StandardScaler(with_mean=True, with_std=True)"
   ]
  },
  {
   "cell_type": "code",
   "execution_count": null,
   "metadata": {},
   "outputs": [],
   "source": [
    "scaler.fit_transform(train)"
   ]
  },
  {
   "cell_type": "code",
   "execution_count": null,
   "metadata": {},
   "outputs": [],
   "source": [
    "print(scaler.mean_)"
   ]
  },
  {
   "cell_type": "code",
   "execution_count": null,
   "metadata": {},
   "outputs": [],
   "source": [
    "print(scaler.var_)"
   ]
  },
  {
   "cell_type": "code",
   "execution_count": null,
   "metadata": {},
   "outputs": [],
   "source": [
    "feature = train.drop(columns=['Unnamed: 0', 'price', 'zipcode'])\n",
    "scaled = scaler.fit_transform(feature)\n",
    "lreg.fit(feature, train['price'])"
   ]
  },
  {
   "cell_type": "code",
   "execution_count": null,
   "metadata": {},
   "outputs": [],
   "source": [
    "predicted = lreg.predict(scaled)"
   ]
  },
  {
   "cell_type": "code",
   "execution_count": null,
   "metadata": {},
   "outputs": [],
   "source": [
    "mse = mean_squared_error(predicted, train['price'])\n",
    "rse = np.sqrt(mse)\n",
    "r2 = r2_score(predicted, train['price'])\n",
    "\n",
    "print(f'Scaled MSE {mse}')\n",
    "print(f'Scaled rse {rse}')\n",
    "print(f'Scaled R2 {r2}')"
   ]
  },
  {
   "cell_type": "code",
   "execution_count": null,
   "metadata": {},
   "outputs": [],
   "source": [
    "help(lreg.fit)"
   ]
  },
  {
   "cell_type": "code",
   "execution_count": null,
   "metadata": {},
   "outputs": [],
   "source": [
    "test = pd.read_csv('test.csv')\n",
    "nonScaled = LinearRegression()\n",
    "scaled = LinearRegression()\n",
    "dropped = train.drop(columns=['Unnamed: 0', 'zipcode', 'price'])\n",
    "targettedY = train['price']"
   ]
  },
  {
   "cell_type": "code",
   "execution_count": null,
   "metadata": {},
   "outputs": [],
   "source": [
    "nonScaled.fit(dropped, targettedY)\n",
    "scaled.fit(scaler.fit_transform(dropped), targettedY)"
   ]
  },
  {
   "cell_type": "code",
   "execution_count": null,
   "metadata": {},
   "outputs": [],
   "source": [
    "def printMetrics(linreg):\n",
    "    testDrop = test.drop(columns=['Unnamed: 0', 'zipcode', 'price', 'date', 'id'])\n",
    "    testYPredict = linreg.predict(testDrop)\n",
    "    targettedYTest = test['price']\n",
    "    \n",
    "    mse = mean_squared_error(testYPredict, targettedYTest)\n",
    "    r2 = r2_score(testYPredict, targettedYTest)\n",
    "    \n",
    "    print(f'MSE score {mse}')\n",
    "    print(f'RSE score {np.sqrt(mse)}')\n",
    "    print(f'R2 score {r2}')"
   ]
  },
  {
   "cell_type": "code",
   "execution_count": null,
   "metadata": {},
   "outputs": [],
   "source": [
    "printMetrics(nonScaled)"
   ]
  },
  {
   "cell_type": "code",
   "execution_count": null,
   "metadata": {},
   "outputs": [],
   "source": [
    "printMetrics(scaled)"
   ]
  },
  {
   "cell_type": "markdown",
   "metadata": {},
   "source": [
    "## Question 3: Linear Regression - Closed form"
   ]
  },
  {
   "cell_type": "markdown",
   "metadata": {},
   "source": [
    "### 3.1 sqft_living and price"
   ]
  },
  {
   "cell_type": "code",
   "execution_count": null,
   "metadata": {},
   "outputs": [],
   "source": [
    "x_train = train['sqft_living']\n",
    "y_train = train['price']"
   ]
  },
  {
   "cell_type": "code",
   "execution_count": null,
   "metadata": {},
   "outputs": [],
   "source": [
    "x_hat = sum(x_train)/len(x_train)\n",
    "y_hat = sum(y_train)/len(y_train)"
   ]
  },
  {
   "cell_type": "code",
   "execution_count": null,
   "metadata": {},
   "outputs": [],
   "source": [
    "theta_1 = sum([(x - x_hat)*(y - y_hat) for (x,y) in zip(x_train,y_train)]) / sum([(x - x_hat)**2 for x in x_train])\n",
    "theta_0 = y_hat - theta_1*x_hat"
   ]
  },
  {
   "cell_type": "code",
   "execution_count": null,
   "metadata": {},
   "outputs": [],
   "source": [
    "theta_1, theta_0"
   ]
  },
  {
   "cell_type": "code",
   "execution_count": null,
   "metadata": {},
   "outputs": [],
   "source": [
    "x_test = test['sqft_living']\n",
    "y_test = test['price']"
   ]
  },
  {
   "cell_type": "code",
   "execution_count": null,
   "metadata": {},
   "outputs": [],
   "source": [
    "y_pred = x_test * theta_1 + theta_0"
   ]
  },
  {
   "cell_type": "code",
   "execution_count": null,
   "metadata": {},
   "outputs": [],
   "source": [
    "mse = mean_squared_error(y_pred, y_test)\n",
    "r2 = r2_score(y_pred,y_test)"
   ]
  },
  {
   "cell_type": "code",
   "execution_count": null,
   "metadata": {},
   "outputs": [],
   "source": [
    "print(f'MSE {mse}')\n",
    "print(f'RMSE {np.sqrt(mse)}')\n",
    "print(f'R2 {r2Series(1, index=x_train.index) }')"
   ]
  },
  {
   "cell_type": "markdown",
   "metadata": {},
   "source": [
    "### 3.2 Multiple linear regression"
   ]
  },
  {
   "cell_type": "code",
   "execution_count": null,
   "metadata": {},
   "outputs": [],
   "source": [
    "x_train = train.drop(columns=['Unnamed: 0','price', 'zipcode'])\n",
    "x_train['bias'] = 1\n",
    "y_train = np.array([train['price']]).T"
   ]
  },
  {
   "cell_type": "code",
   "execution_count": null,
   "metadata": {
    "scrolled": true
   },
   "outputs": [],
   "source": [
    "print(x_train.shape, y_train.shape)"
   ]
  },
  {
   "cell_type": "code",
   "execution_count": null,
   "metadata": {},
   "outputs": [],
   "source": [
    "# x_transpose = np.transpose(x_train)\n",
    "# p1 = np.linalg.inv(np.matmul(x_transpose, x_train))\n",
    "# theta = np.matmul(np.matmul(p1, x_transpose), y_train)\n",
    "\n",
    "transpose = x_train.transpose()\n",
    "theta = np.linalg.pinv(transpose.dot(x_train)).dot(transpose).dot(y_train)"
   ]
  },
  {
   "cell_type": "code",
   "execution_count": null,
   "metadata": {},
   "outputs": [],
   "source": [
    "print(theta.shape)\n",
    "print(theta.T.shape)"
   ]
  },
  {
   "cell_type": "code",
   "execution_count": null,
   "metadata": {},
   "outputs": [],
   "source": [
    "x_test = test.drop(columns=['Unnamed: 0', 'zipcode', 'price', 'date', 'id'])\n",
    "x_test['bias'] = 1\n",
    "y_test = test['price']"
   ]
  },
  {
   "cell_type": "code",
   "execution_count": null,
   "metadata": {},
   "outputs": [],
   "source": [
    "y_predict = x_test.dot(theta)\n",
    "mse = mean_squared_error(y_predict, y_test)\n",
    "rse = np.sqrt(mse)\n",
    "r2 = r2_score(y_predict, y_test)"
   ]
  },
  {
   "cell_type": "code",
   "execution_count": null,
   "metadata": {},
   "outputs": [],
   "source": [
    "print(f'Mean square error {mse}')\n",
    "print(f'Root mean square error {rse}')\n",
    "print(f'R2 error {r2}')"
   ]
  },
  {
   "cell_type": "markdown",
   "metadata": {},
   "source": [
    "## 4 Gradient descent"
   ]
  },
  {
   "cell_type": "code",
   "execution_count": null,
   "metadata": {},
   "outputs": [],
   "source": []
  }
 ],
 "metadata": {
  "kernelspec": {
   "display_name": "Python 3",
   "language": "python",
   "name": "python3"
  },
  "language_info": {
   "codemirror_mode": {
    "name": "ipython",
    "version": 3
   },
   "file_extension": ".py",
   "mimetype": "text/x-python",
   "name": "python",
   "nbconvert_exporter": "python",
   "pygments_lexer": "ipython3",
   "version": "3.6.6"
  }
 },
 "nbformat": 4,
 "nbformat_minor": 2
}
