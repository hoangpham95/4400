{
 "cells": [
  {
   "cell_type": "code",
   "execution_count": 1,
   "metadata": {},
   "outputs": [],
   "source": [
    "import pandas as pd\n",
    "import numpy as np"
   ]
  },
  {
   "cell_type": "code",
   "execution_count": 2,
   "metadata": {},
   "outputs": [],
   "source": [
    "file = \"kc_house_data.csv\"\n",
    "data = pd.read_csv(file)"
   ]
  },
  {
   "cell_type": "code",
   "execution_count": 3,
   "metadata": {},
   "outputs": [],
   "source": [
    "feature = data.drop(columns=['price'])"
   ]
  },
  {
   "cell_type": "code",
   "execution_count": 4,
   "metadata": {},
   "outputs": [],
   "source": [
    "columns = ['bedrooms', 'bathrooms', \n",
    "           'sqft_living', 'sqft_lot', 'floors', \n",
    "           'waterfront', 'view', 'condition', \n",
    "           'grade', 'sqft_above', 'sqft_basement', \n",
    "           'yr_built', 'yr_renovated', \n",
    "           'lat', 'long', 'sqft_living15', 'sqft_lot15']"
   ]
  },
  {
   "cell_type": "markdown",
   "metadata": {},
   "source": [
    "## Question 1"
   ]
  },
  {
   "cell_type": "code",
   "execution_count": 5,
   "metadata": {
    "scrolled": false
   },
   "outputs": [
    {
     "name": "stdout",
     "output_type": "stream",
     "text": [
      "Column bedrooms summary:\n",
      "- maximum 33\n",
      "- minimum 0\n",
      "- average 3.37084162309721\n",
      "- variance 0.8649749868540167\n",
      "\n",
      "\n",
      "Column bathrooms summary:\n",
      "- maximum 8.0\n",
      "- minimum 0.0\n",
      "- average 2.1147573219821405\n",
      "- variance 0.5931238445451253\n",
      "\n",
      "\n",
      "Column sqft_living summary:\n",
      "- maximum 13540\n",
      "- minimum 290\n",
      "- average 2079.8997362698374\n",
      "- variance 843494.6523725765\n",
      "\n",
      "\n",
      "Column sqft_lot summary:\n",
      "- maximum 1651359\n",
      "- minimum 520\n",
      "- average 15106.967565816869\n",
      "- variance 1715579393.3040423\n",
      "\n",
      "\n",
      "Column floors summary:\n",
      "- maximum 3.5\n",
      "- minimum 1.0\n",
      "- average 1.4943089807060566\n",
      "- variance 0.2915745155520679\n",
      "\n",
      "\n",
      "Column waterfront summary:\n",
      "- maximum 1\n",
      "- minimum 0\n",
      "- average 0.007541757275713691\n",
      "- variance 0.007484879172907909\n",
      "\n",
      "\n",
      "Column view summary:\n",
      "- maximum 4\n",
      "- minimum 0\n",
      "- average 0.23430342849211122\n",
      "- variance 0.5872154461720236\n",
      "\n",
      "\n",
      "Column condition summary:\n",
      "- maximum 5\n",
      "- minimum 1\n",
      "- average 3.4094295100171195\n",
      "- variance 0.4234469192550091\n",
      "\n",
      "\n",
      "Column grade summary:\n",
      "- maximum 13\n",
      "- minimum 1\n",
      "- average 7.656873178179799\n",
      "- variance 1.3816393600787207\n",
      "\n",
      "\n",
      "Column sqft_above summary:\n",
      "- maximum 9410\n",
      "- minimum 290\n",
      "- average 1788.3906907879516\n",
      "- variance 685702.9393886543\n",
      "\n",
      "\n",
      "Column sqft_basement summary:\n",
      "- maximum 4820\n",
      "- minimum 0\n",
      "- average 291.5090454818859\n",
      "- variance 195863.60567628779\n",
      "\n",
      "\n",
      "Column yr_built summary:\n",
      "- maximum 2015\n",
      "- minimum 1900\n",
      "- average 1971.0051357978994\n",
      "- variance 862.7573418741698\n",
      "\n",
      "\n",
      "Column yr_renovated summary:\n",
      "- maximum 2015\n",
      "- minimum 0\n",
      "- average 84.40225790033776\n",
      "- variance 161338.74662332\n",
      "\n",
      "\n",
      "Column lat summary:\n",
      "- maximum 47.7776\n",
      "- minimum 47.1559\n",
      "- average 47.56005251931708\n",
      "- variance 0.019199013446320422\n",
      "\n",
      "\n",
      "Column long summary:\n",
      "- maximum -121.315\n",
      "- minimum -122.51899999999999\n",
      "- average -122.21389640494147\n",
      "- variance 0.019831704393220007\n",
      "\n",
      "\n",
      "Column sqft_living15 summary:\n",
      "- maximum 6210\n",
      "- minimum 399\n",
      "- average 1986.552491556008\n",
      "- variance 469739.50482109515\n",
      "\n",
      "\n",
      "Column sqft_lot15 summary:\n",
      "- maximum 871200\n",
      "- minimum 651\n",
      "- average 12768.455651691113\n",
      "- variance 745483731.3680073\n",
      "\n",
      "\n"
     ]
    }
   ],
   "source": [
    "for c in columns:\n",
    "    col = feature[c]\n",
    "    print(f'Column {c} summary:')\n",
    "    print(f'- maximum {np.amax(col)}')\n",
    "    print(f'- minimum {np.amin(col)}')\n",
    "    print(f'- average {np.average(col)}')\n",
    "    print(f'- variance {np.var(col)}')\n",
    "    print('\\n')"
   ]
  },
  {
   "cell_type": "code",
   "execution_count": 6,
   "metadata": {},
   "outputs": [
    {
     "name": "stdout",
     "output_type": "stream",
     "text": [
      "Correlation price vs. bedrooms: 0.3083495981456364\n",
      "Correlation price vs. bathrooms: 0.5251375054139724\n",
      "Correlation price vs. sqft_living: 0.7020350546118009\n",
      "Correlation price vs. sqft_lot: 0.08966086058710003\n",
      "Correlation price vs. floors: 0.25679388755070176\n",
      "Correlation price vs. waterfront: 0.26636943403055346\n",
      "Correlation price vs. view: 0.3972934882944871\n",
      "Correlation price vs. condition: 0.03636178912899409\n",
      "Correlation price vs. grade: 0.667434256020255\n",
      "Correlation price vs. sqft_above: 0.6055672983560842\n",
      "Correlation price vs. sqft_basement: 0.323816020712004\n",
      "Correlation price vs. yr_built: 0.05401153149478604\n",
      "Correlation price vs. yr_renovated: 0.12643379344092243\n",
      "Correlation price vs. lat: 0.307003479995218\n",
      "Correlation price vs. long: 0.02162624103930622\n",
      "Correlation price vs. sqft_living15: 0.5853789035795697\n",
      "Correlation price vs. sqft_lot15: 0.08244715251948594\n"
     ]
    }
   ],
   "source": [
    "corr = data.corr()['price']\n",
    "for c in columns:\n",
    "    print(f'Correlation price vs. {c}: {corr[c]}')"
   ]
  },
  {
   "cell_type": "code",
   "execution_count": 7,
   "metadata": {},
   "outputs": [],
   "source": [
    "from sklearn.linear_model import LinearRegression\n",
    "\n",
    "lreg = LinearRegression()"
   ]
  },
  {
   "cell_type": "code",
   "execution_count": 8,
   "metadata": {},
   "outputs": [
    {
     "name": "stdout",
     "output_type": "stream",
     "text": [
      "(21613,)\n",
      "(21613, 20)\n"
     ]
    }
   ],
   "source": [
    "print(data['price'].shape)\n",
    "print(feature.shape)"
   ]
  },
  {
   "cell_type": "code",
   "execution_count": 9,
   "metadata": {},
   "outputs": [
    {
     "name": "stdout",
     "output_type": "stream",
     "text": [
      "<class 'pandas.core.frame.DataFrame'>\n",
      "RangeIndex: 21613 entries, 0 to 21612\n",
      "Data columns (total 20 columns):\n",
      "id               21613 non-null int64\n",
      "date             21613 non-null object\n",
      "bedrooms         21613 non-null int64\n",
      "bathrooms        21613 non-null float64\n",
      "sqft_living      21613 non-null int64\n",
      "sqft_lot         21613 non-null int64\n",
      "floors           21613 non-null float64\n",
      "waterfront       21613 non-null int64\n",
      "view             21613 non-null int64\n",
      "condition        21613 non-null int64\n",
      "grade            21613 non-null int64\n",
      "sqft_above       21613 non-null int64\n",
      "sqft_basement    21613 non-null int64\n",
      "yr_built         21613 non-null int64\n",
      "yr_renovated     21613 non-null int64\n",
      "zipcode          21613 non-null int64\n",
      "lat              21613 non-null float64\n",
      "long             21613 non-null float64\n",
      "sqft_living15    21613 non-null int64\n",
      "sqft_lot15       21613 non-null int64\n",
      "dtypes: float64(4), int64(15), object(1)\n",
      "memory usage: 3.3+ MB\n",
      "None\n"
     ]
    }
   ],
   "source": [
    "print(feature.info())"
   ]
  },
  {
   "cell_type": "code",
   "execution_count": 10,
   "metadata": {},
   "outputs": [
    {
     "data": {
      "text/plain": [
       "LinearRegression(copy_X=True, fit_intercept=True, n_jobs=1, normalize=False)"
      ]
     },
     "execution_count": 10,
     "metadata": {},
     "output_type": "execute_result"
    }
   ],
   "source": [
    "train = pd.read_csv('train.csv')\n",
    "lreg.fit(train.drop(columns=['Unnamed: 0', 'price', 'zipcode']), train['price'])"
   ]
  },
  {
   "cell_type": "code",
   "execution_count": 11,
   "metadata": {},
   "outputs": [
    {
     "name": "stdout",
     "output_type": "stream",
     "text": [
      "MSE 31486167775.794903\n",
      "RSE 177443.42133704168\n",
      "R2 0.7265334318706016\n"
     ]
    }
   ],
   "source": [
    "from sklearn.metrics import mean_squared_error, r2_score\n",
    "\n",
    "price_predicted = lreg.predict(train.drop(columns=['Unnamed: 0', 'price', 'zipcode']))\n",
    "\n",
    "mse = mean_squared_error(train['price'], price_predicted)\n",
    "rse = np.sqrt(mse)\n",
    "r2 = r2_score(train['price'], price_predicted)\n",
    "\n",
    "print(f'MSE {mse}')\n",
    "print(f'RSE {rse}')\n",
    "print(f'R2 {r2}')"
   ]
  },
  {
   "cell_type": "code",
   "execution_count": 12,
   "metadata": {},
   "outputs": [
    {
     "name": "stdout",
     "output_type": "stream",
     "text": [
      "Coefficients for linear regression\n",
      " [-1.47042805e+04  2.56877840e+04  8.30842103e+01  3.75929764e-01\n",
      "  1.55555810e+04  7.15535170e+05  6.30278980e+04  1.88164028e+04\n",
      "  7.95346027e+04  4.20104951e+01  4.10737151e+01 -2.40066933e+03\n",
      "  4.36829418e+01  5.53505032e+05 -7.42402712e+03  6.80157923e+01\n",
      " -5.15527568e-01]\n",
      "Coeff length 17\n"
     ]
    }
   ],
   "source": [
    "print(f'Coefficients for linear regression\\n {lreg.coef_}')\n",
    "print(f'Coeff length {len(lreg.coef_)}')"
   ]
  },
  {
   "cell_type": "code",
   "execution_count": 13,
   "metadata": {},
   "outputs": [],
   "source": [
    "from sklearn.preprocessing import StandardScaler\n",
    "scaler = StandardScaler(with_mean=True, with_std=True)"
   ]
  },
  {
   "cell_type": "code",
   "execution_count": 14,
   "metadata": {},
   "outputs": [
    {
     "data": {
      "text/plain": [
       "array([[-1.73031962, -0.87974769, -0.40982347, ..., -0.35519332,\n",
       "        -0.96563661, -0.3128578 ],\n",
       "       [-1.72685552,  0.05182493, -0.40982347, ..., -0.7998304 ,\n",
       "        -0.44332966, -0.23355563],\n",
       "       [-1.72339142, -1.00323042, -1.58410276, ..., -0.18307573,\n",
       "         1.09374507, -0.21669046],\n",
       "       ...,\n",
       "       [ 1.72339142,  0.0975047 , -1.58410276, ..., -0.86437449,\n",
       "        -1.02532883, -0.4185143 ],\n",
       "       [ 1.72685552, -0.97390696, -1.58410276, ...,  1.07911986,\n",
       "        -0.80148299, -0.40352304],\n",
       "       [ 1.73031962, -0.68199849, -0.40982347, ..., -0.46993837,\n",
       "         0.39236146, -0.15736334]])"
      ]
     },
     "execution_count": 14,
     "metadata": {},
     "output_type": "execute_result"
    }
   ],
   "source": [
    "scaler.fit_transform(train)"
   ]
  },
  {
   "cell_type": "code",
   "execution_count": 15,
   "metadata": {},
   "outputs": [
    {
     "name": "stdout",
     "output_type": "stream",
     "text": [
      "[ 5.00500000e+02  5.20414834e+05  3.34900000e+00  2.04575000e+00\n",
      "  2.05119600e+03  1.47020850e+04  1.44650000e+00  8.00000000e-03\n",
      "  2.37000000e-01  3.46400000e+00  7.60600000e+00  1.75033300e+03\n",
      "  3.00863000e+02  1.96904900e+03  8.17490000e+01  9.80743680e+04\n",
      "  4.75494927e+01 -1.22207472e+02  1.98707700e+03  1.34968740e+04]\n"
     ]
    }
   ],
   "source": [
    "print(scaler.mean_)"
   ]
  },
  {
   "cell_type": "code",
   "execution_count": 16,
   "metadata": {},
   "outputs": [
    {
     "name": "stdout",
     "output_type": "stream",
     "text": [
      "[8.33332500e+04 1.15137174e+11 7.25199000e-01 5.20219437e-01\n",
      " 7.87629886e+05 8.37902562e+08 2.67387750e-01 7.93600000e-03\n",
      " 5.84831000e-01 4.74704000e-01 1.34476400e+00 6.23598196e+05\n",
      " 2.03105874e+05 7.93930599e+02 1.56325670e+05 2.76093058e+03\n",
      " 2.00502655e-02 1.94433912e-02 4.49039437e+05 6.29070578e+08]\n"
     ]
    }
   ],
   "source": [
    "print(scaler.var_)"
   ]
  },
  {
   "cell_type": "code",
   "execution_count": 17,
   "metadata": {},
   "outputs": [
    {
     "data": {
      "text/plain": [
       "LinearRegression(copy_X=True, fit_intercept=True, n_jobs=1, normalize=False)"
      ]
     },
     "execution_count": 17,
     "metadata": {},
     "output_type": "execute_result"
    }
   ],
   "source": [
    "feature = train.drop(columns=['Unnamed: 0', 'price', 'zipcode'])\n",
    "scaled = scaler.fit_transform(feature)\n",
    "lreg.fit(feature, train['price'])"
   ]
  },
  {
   "cell_type": "code",
   "execution_count": 18,
   "metadata": {},
   "outputs": [],
   "source": [
    "predicted = lreg.predict(scaled)"
   ]
  },
  {
   "cell_type": "code",
   "execution_count": 19,
   "metadata": {},
   "outputs": [
    {
     "name": "stdout",
     "output_type": "stream",
     "text": [
      "Scaled MSE 558042575104906.6\n",
      "Scaled rse 23622924.778801344\n",
      "Scaled R2 -631.7338415017563\n"
     ]
    }
   ],
   "source": [
    "mse = mean_squared_error(predicted, train['price'])\n",
    "rse = np.sqrt(mse)\n",
    "r2 = r2_score(predicted, train['price'])\n",
    "\n",
    "print(f'Scaled MSE {mse}')\n",
    "print(f'Scaled rse {rse}')\n",
    "print(f'Scaled R2 {r2}')"
   ]
  },
  {
   "cell_type": "code",
   "execution_count": 20,
   "metadata": {},
   "outputs": [
    {
     "name": "stdout",
     "output_type": "stream",
     "text": [
      "Help on method fit in module sklearn.linear_model.base:\n",
      "\n",
      "fit(X, y, sample_weight=None) method of sklearn.linear_model.base.LinearRegression instance\n",
      "    Fit linear model.\n",
      "    \n",
      "    Parameters\n",
      "    ----------\n",
      "    X : numpy array or sparse matrix of shape [n_samples,n_features]\n",
      "        Training data\n",
      "    \n",
      "    y : numpy array of shape [n_samples, n_targets]\n",
      "        Target values. Will be cast to X's dtype if necessary\n",
      "    \n",
      "    sample_weight : numpy array of shape [n_samples]\n",
      "        Individual weights for each sample\n",
      "    \n",
      "        .. versionadded:: 0.17\n",
      "           parameter *sample_weight* support to LinearRegression.\n",
      "    \n",
      "    Returns\n",
      "    -------\n",
      "    self : returns an instance of self.\n",
      "\n"
     ]
    }
   ],
   "source": [
    "help(lreg.fit)"
   ]
  },
  {
   "cell_type": "code",
   "execution_count": 21,
   "metadata": {},
   "outputs": [],
   "source": [
    "test = pd.read_csv('test.csv')\n",
    "nonScaled = LinearRegression()\n",
    "scaled = LinearRegression()\n",
    "dropped = train.drop(columns=['Unnamed: 0', 'zipcode', 'price'])\n",
    "targettedY = train['price']"
   ]
  },
  {
   "cell_type": "code",
   "execution_count": 22,
   "metadata": {},
   "outputs": [
    {
     "data": {
      "text/plain": [
       "LinearRegression(copy_X=True, fit_intercept=True, n_jobs=1, normalize=False)"
      ]
     },
     "execution_count": 22,
     "metadata": {},
     "output_type": "execute_result"
    }
   ],
   "source": [
    "nonScaled.fit(dropped, targettedY)\n",
    "scaled.fit(scaler.fit_transform(dropped), targettedY)"
   ]
  },
  {
   "cell_type": "code",
   "execution_count": 23,
   "metadata": {},
   "outputs": [],
   "source": [
    "def printMetrics(linreg):\n",
    "    testDrop = test.drop(columns=['Unnamed: 0', 'zipcode', 'price', 'date', 'id'])\n",
    "    testYPredict = linreg.predict(testDrop)\n",
    "    targettedYTest = test['price']\n",
    "    \n",
    "    mse = mean_squared_error(testYPredict, targettedYTest)\n",
    "    r2 = r2_score(testYPredict, targettedYTest)\n",
    "    \n",
    "    print(f'MSE score {mse}')\n",
    "    print(f'RSE score {np.sqrt(mse)}')\n",
    "    print(f'R2 score {r2}')"
   ]
  },
  {
   "cell_type": "code",
   "execution_count": 24,
   "metadata": {},
   "outputs": [
    {
     "name": "stdout",
     "output_type": "stream",
     "text": [
      "MSE score 57628154705.66816\n",
      "RSE score 240058.64847088547\n",
      "R2 score 0.3538380835910615\n"
     ]
    }
   ],
   "source": [
    "printMetrics(nonScaled)"
   ]
  },
  {
   "cell_type": "code",
   "execution_count": 25,
   "metadata": {},
   "outputs": [
    {
     "name": "stdout",
     "output_type": "stream",
     "text": [
      "MSE score 2.3173058704076886e+17\n",
      "RSE score 481384032.80620855\n",
      "R2 score -0.1522352461656029\n"
     ]
    }
   ],
   "source": [
    "printMetrics(scaled)"
   ]
  },
  {
   "cell_type": "markdown",
   "metadata": {},
   "source": [
    "## Question 3: Linear Regression - Closed form"
   ]
  },
  {
   "cell_type": "markdown",
   "metadata": {},
   "source": [
    "### 3.1 sqft_living and price"
   ]
  },
  {
   "cell_type": "code",
   "execution_count": 26,
   "metadata": {},
   "outputs": [],
   "source": [
    "x_train = train['sqft_living']\n",
    "y_train = train['price']"
   ]
  },
  {
   "cell_type": "code",
   "execution_count": 27,
   "metadata": {},
   "outputs": [],
   "source": [
    "x_hat = sum(x_train)/len(x_train)\n",
    "y_hat = sum(y_train)/len(y_train)"
   ]
  },
  {
   "cell_type": "code",
   "execution_count": 28,
   "metadata": {},
   "outputs": [],
   "source": [
    "theta_1 = sum([(x - x_hat)*(y - y_hat) for (x,y) in zip(x_train,y_train)]) / sum([(x - x_hat)**2 for x in x_train])\n",
    "theta_0 = y_hat - theta_1*x_hat"
   ]
  },
  {
   "cell_type": "code",
   "execution_count": 29,
   "metadata": {},
   "outputs": [
    {
     "data": {
      "text/plain": [
       "(269.46205468469446, -32304.6547210266)"
      ]
     },
     "execution_count": 29,
     "metadata": {},
     "output_type": "execute_result"
    }
   ],
   "source": [
    "theta_1, theta_0"
   ]
  },
  {
   "cell_type": "code",
   "execution_count": 30,
   "metadata": {},
   "outputs": [],
   "source": [
    "x_test = test['sqft_living']\n",
    "y_test = test['price']"
   ]
  },
  {
   "cell_type": "code",
   "execution_count": 31,
   "metadata": {},
   "outputs": [],
   "source": [
    "y_pred = x_test * theta_1 + theta_0"
   ]
  },
  {
   "cell_type": "code",
   "execution_count": 32,
   "metadata": {},
   "outputs": [],
   "source": [
    "mse = mean_squared_error(y_pred, y_test)\n",
    "r2 = r2_score(y_pred,y_test)"
   ]
  },
  {
   "cell_type": "code",
   "execution_count": 34,
   "metadata": {},
   "outputs": [
    {
     "name": "stdout",
     "output_type": "stream",
     "text": [
      "MSE 88575978543.09607\n",
      "RMSE 297617.16775598825\n",
      "R2 -0.38581772448215945\n"
     ]
    }
   ],
   "source": [
    "print(f'MSE {mse}')\n",
    "print(f'RMSE {np.sqrt(mse)}')\n",
    "print(f'R2 {r2}')"
   ]
  },
  {
   "cell_type": "markdown",
   "metadata": {},
   "source": [
    "### 3.2 Multiple linear regression"
   ]
  },
  {
   "cell_type": "code",
   "execution_count": 35,
   "metadata": {},
   "outputs": [],
   "source": [
    "x_train = train.drop(columns=['Unnamed: 0','price', 'zipcode'])\n",
    "x_train['bias'] = 1\n",
    "y_train = np.array([train['price']]).T"
   ]
  },
  {
   "cell_type": "code",
   "execution_count": 36,
   "metadata": {
    "scrolled": true
   },
   "outputs": [
    {
     "name": "stdout",
     "output_type": "stream",
     "text": [
      "(1000, 18) (1000, 1)\n"
     ]
    }
   ],
   "source": [
    "print(x_train.shape, y_train.shape)"
   ]
  },
  {
   "cell_type": "code",
   "execution_count": 37,
   "metadata": {},
   "outputs": [],
   "source": [
    "# x_transpose = np.transpose(x_train)\n",
    "# p1 = np.linalg.inv(np.matmul(x_transpose, x_train))\n",
    "# theta = np.matmul(np.matmul(p1, x_transpose), y_train)\n",
    "\n",
    "transpose = x_train.transpose()\n",
    "theta = np.linalg.pinv(transpose.dot(x_train)).dot(transpose).dot(y_train)"
   ]
  },
  {
   "cell_type": "code",
   "execution_count": 38,
   "metadata": {},
   "outputs": [
    {
     "name": "stdout",
     "output_type": "stream",
     "text": [
      "(18, 1)\n",
      "(1, 18)\n"
     ]
    }
   ],
   "source": [
    "print(theta.shape)\n",
    "print(theta.T.shape)"
   ]
  },
  {
   "cell_type": "code",
   "execution_count": 39,
   "metadata": {},
   "outputs": [],
   "source": [
    "x_test = test.drop(columns=['Unnamed: 0', 'zipcode', 'price', 'date', 'id'])\n",
    "x_test['bias'] = 1\n",
    "y_test = test['price']"
   ]
  },
  {
   "cell_type": "code",
   "execution_count": 40,
   "metadata": {},
   "outputs": [],
   "source": [
    "y_predict = x_test.dot(theta)\n",
    "mse = mean_squared_error(y_predict, y_test)\n",
    "rse = np.sqrt(mse)\n",
    "r2 = r2_score(y_predict, y_test)"
   ]
  },
  {
   "cell_type": "code",
   "execution_count": 41,
   "metadata": {},
   "outputs": [
    {
     "name": "stdout",
     "output_type": "stream",
     "text": [
      "Mean square error 58089533328.27369\n",
      "Root mean square error 241017.7033503425\n",
      "R2 error 0.35001837493692867\n"
     ]
    }
   ],
   "source": [
    "print(f'Mean square error {mse}')\n",
    "print(f'Root mean square error {rse}')\n",
    "print(f'R2 error {r2}')"
   ]
  },
  {
   "cell_type": "markdown",
   "metadata": {},
   "source": [
    "## 4 Gradient descent"
   ]
  },
  {
   "cell_type": "code",
   "execution_count": 46,
   "metadata": {},
   "outputs": [],
   "source": [
    "train_normal = train.drop(columns=['zipcode', 'price'])"
   ]
  },
  {
   "cell_type": "code",
   "execution_count": 48,
   "metadata": {},
   "outputs": [
    {
     "data": {
      "text/plain": [
       "(1000, 18)"
      ]
     },
     "execution_count": 48,
     "metadata": {},
     "output_type": "execute_result"
    }
   ],
   "source": [
    "train_normal['Unnamed: 0'] = 1\n",
    "train_normal.shape"
   ]
  },
  {
   "cell_type": "code",
   "execution_count": 49,
   "metadata": {},
   "outputs": [],
   "source": [
    "std_scale = StandardScaler()"
   ]
  },
  {
   "cell_type": "code",
   "execution_count": 50,
   "metadata": {},
   "outputs": [],
   "source": [
    "train_normal_scaled = std_scale.fit_transform(train_normal)"
   ]
  },
  {
   "cell_type": "code",
   "execution_count": 51,
   "metadata": {},
   "outputs": [
    {
     "data": {
      "text/plain": [
       "(1000, 18)"
      ]
     },
     "execution_count": 51,
     "metadata": {},
     "output_type": "execute_result"
    }
   ],
   "source": [
    "train_normal_scaled.shape"
   ]
  },
  {
   "cell_type": "code",
   "execution_count": 53,
   "metadata": {},
   "outputs": [
    {
     "name": "stdout",
     "output_type": "stream",
     "text": [
      "[[ 0.         -0.40982347 -1.44988843 ... -0.35519332 -0.96563661\n",
      "  -0.3128578 ]\n",
      " [ 0.         -0.40982347  0.28318404 ... -0.7998304  -0.44332966\n",
      "  -0.23355563]\n",
      " [ 0.         -1.58410276 -1.44988843 ... -0.18307573  1.09374507\n",
      "  -0.21669046]\n",
      " ...\n",
      " [ 0.         -1.58410276 -1.44988843 ... -0.86437449 -1.02532883\n",
      "  -0.4185143 ]\n",
      " [ 0.         -1.58410276 -1.44988843 ...  1.07911986 -0.80148299\n",
      "  -0.40352304]\n",
      " [ 0.         -0.40982347 -0.06343045 ... -0.46993837  0.39236146\n",
      "  -0.15736334]]\n"
     ]
    }
   ],
   "source": [
    "print(train_normal_scaled)"
   ]
  },
  {
   "cell_type": "code",
   "execution_count": 54,
   "metadata": {},
   "outputs": [],
   "source": [
    "theta = np.random.rand(train_normal_scaled.shape[1], 1)"
   ]
  },
  {
   "cell_type": "code",
   "execution_count": 57,
   "metadata": {},
   "outputs": [
    {
     "name": "stdout",
     "output_type": "stream",
     "text": [
      "[0.3930459]\n"
     ]
    }
   ],
   "source": [
    "theta\n",
    "print(theta[1])"
   ]
  },
  {
   "cell_type": "code",
   "execution_count": 68,
   "metadata": {},
   "outputs": [],
   "source": [
    "def deltaMse(theta, j, x, y):\n",
    "    row, col = theta.shape\n",
    "    total = 0\n",
    "    for i in range(0, row):\n",
    "        s = 0\n",
    "        for k in range(0, col):\n",
    "            s += theta[j][0] * x[k][i]\n",
    "        s -= y[i]\n",
    "        total += s * x[j][i]\n",
    "    return 2/row * total\n",
    "    \n",
    "def descent(alpha, theta, x, y, epsilon=0.001):\n",
    "    old = theta\n",
    "    \n",
    "    row, col = theta.shape\n",
    "    \n",
    "    while (True):\n",
    "        for j in range(0, col):\n",
    "            theta[j][0] = theta[j][0] - alpha * deltaMse(theta, j, x, y)\n",
    "        \n",
    "        norm = np.linalg.norm(old - theta)\n",
    "        if 0 < norm and norm < epsilon:\n",
    "            return theta\n",
    "        else:\n",
    "            print(theta.T)\n",
    "            old = theta\n",
    "    \n",
    "    return theta\n",
    "\n",
    "def gradient_descent(x, y, theta, iterations, alpha):\n",
    "    past_costs = []\n",
    "    past_thetas = [theta]\n",
    "    m = y.shape[]\n",
    "    print(m)\n",
    "    for i in range(iterations):\n",
    "        prediction = np.dot(x, theta)\n",
    "        error = prediction - y\n",
    "        cost = 1/m * np.dot(error.T, error)\n",
    "        past_costs.append(cost)\n",
    "        theta = theta - (alpha * (1/m) * np.dot(x.T, error))\n",
    "        past_thetas.append(theta)\n",
    "        \n",
    "    return past_thetas, past_costs\n"
   ]
  },
  {
   "cell_type": "code",
   "execution_count": 69,
   "metadata": {},
   "outputs": [
    {
     "name": "stdout",
     "output_type": "stream",
     "text": [
      "1\n"
     ]
    }
   ],
   "source": [
    "past_thetas, past_costs = gradient_descent(x_train, y_train, theta, 2000, 0.01)"
   ]
  },
  {
   "cell_type": "code",
   "execution_count": 67,
   "metadata": {},
   "outputs": [
    {
     "data": {
      "text/plain": [
       "array([[nan],\n",
       "       [nan],\n",
       "       [nan],\n",
       "       [nan],\n",
       "       [nan],\n",
       "       [nan],\n",
       "       [nan],\n",
       "       [nan],\n",
       "       [nan],\n",
       "       [nan],\n",
       "       [nan],\n",
       "       [nan],\n",
       "       [nan],\n",
       "       [nan],\n",
       "       [nan],\n",
       "       [nan],\n",
       "       [nan],\n",
       "       [nan]])"
      ]
     },
     "execution_count": 67,
     "metadata": {},
     "output_type": "execute_result"
    }
   ],
   "source": [
    "past_thetas[-1]"
   ]
  },
  {
   "cell_type": "code",
   "execution_count": null,
   "metadata": {},
   "outputs": [],
   "source": []
  }
 ],
 "metadata": {
  "kernelspec": {
   "display_name": "Python 3",
   "language": "python",
   "name": "python3"
  },
  "language_info": {
   "codemirror_mode": {
    "name": "ipython",
    "version": 3
   },
   "file_extension": ".py",
   "mimetype": "text/x-python",
   "name": "python",
   "nbconvert_exporter": "python",
   "pygments_lexer": "ipython3",
   "version": "3.6.5"
  }
 },
 "nbformat": 4,
 "nbformat_minor": 2
}
