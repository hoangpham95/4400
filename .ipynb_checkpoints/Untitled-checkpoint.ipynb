{
 "cells": [
  {
   "cell_type": "code",
   "execution_count": 1,
   "metadata": {},
   "outputs": [],
   "source": [
    "from urllib.parse import urlparse"
   ]
  },
  {
   "cell_type": "code",
   "execution_count": 3,
   "metadata": {},
   "outputs": [],
   "source": [
    "r = urlparse('amount=1000&merchant=123456789&destination[account]=111111&destination[amount]=77')"
   ]
  },
  {
   "cell_type": "code",
   "execution_count": 4,
   "metadata": {},
   "outputs": [
    {
     "data": {
      "text/plain": [
       "ParseResult(scheme='', netloc='', path='amount=1000&merchant=123456789&destination[account]=111111&destination[amount]=77', params='', query='', fragment='')"
      ]
     },
     "execution_count": 4,
     "metadata": {},
     "output_type": "execute_result"
    }
   ],
   "source": [
    "r"
   ]
  },
  {
   "cell_type": "code",
   "execution_count": 5,
   "metadata": {},
   "outputs": [
    {
     "data": {
      "text/plain": [
       "'amount=1000&merchant=123456789&destination[account]=111111&destination[amount]=77'"
      ]
     },
     "execution_count": 5,
     "metadata": {},
     "output_type": "execute_result"
    }
   ],
   "source": [
    "r.path"
   ]
  },
  {
   "cell_type": "code",
   "execution_count": 6,
   "metadata": {},
   "outputs": [
    {
     "data": {
      "text/plain": [
       "''"
      ]
     },
     "execution_count": 6,
     "metadata": {},
     "output_type": "execute_result"
    }
   ],
   "source": [
    "r.query"
   ]
  },
  {
   "cell_type": "code",
   "execution_count": 17,
   "metadata": {},
   "outputs": [
    {
     "data": {
      "text/plain": [
       "{'amount': ['1000'],\n",
       " 'merchant': ['123456789'],\n",
       " 'destination[account]': ['111111'],\n",
       " 'destination[amount]': ['77']}"
      ]
     },
     "execution_count": 17,
     "metadata": {},
     "output_type": "execute_result"
    }
   ],
   "source": [
    "import urllib\n",
    "urllib.parse.parse_qs('amount=1000&merchant=123456789&destination[account]=111111&destination[amount]=77')"
   ]
  },
  {
   "cell_type": "code",
   "execution_count": 18,
   "metadata": {},
   "outputs": [],
   "source": [
    "# Complete the balance function below.\n",
    "from urllib.parse import parse_qs\n",
    "\n",
    "def balance(lines):\n",
    "    merchant = {}\n",
    "    \n",
    "    for l in lines:\n",
    "        if l.startswith('BAL'):\n",
    "            m = merchant.split('=')[2]\n",
    "            print(merchant[m])\n",
    "        else:\n",
    "            parsed = parse_qs(l)\n",
    "            print(parsed)\n",
    "            amount = int(parsed['amount'][0])\n",
    "            m = parsed['merchant'][0]\n",
    "            if m not in merchant:\n",
    "                merchant[m] = 0\n",
    "            if 'destination[account]' not in parse and 'destination[amount]' not in parsed:\n",
    "                merchant[m] += amount - (amount * 0.029 + 0.30)\n",
    "            else:\n",
    "                dest = parsed['destination[account]']\n",
    "                destAmt = int(parsed['destination[amount]'])\n",
    "                \n",
    "                if dest not in merchant:\n",
    "                    merchant[dest] = 0\n",
    "                merchant[dest] += destAmt\n",
    "                merchant[m] = amount - (amount * 0.029 + 0.30) - destAmt\n",
    "    \n",
    "    \n"
   ]
  },
  {
   "cell_type": "code",
   "execution_count": null,
   "metadata": {},
   "outputs": [],
   "source": [
    "balance([\n",
    "    'API: amount=1000&merchant=123456789&destination[account]=111111&destination[amount]=877'\n",
    "    'BAL: merchant=123456789',\n",
    "    'BAL: merchant=112211'\n",
    "    ])"
   ]
  }
 ],
 "metadata": {
  "kernelspec": {
   "display_name": "Python 3",
   "language": "python",
   "name": "python3"
  },
  "language_info": {
   "codemirror_mode": {
    "name": "ipython",
    "version": 3
   },
   "file_extension": ".py",
   "mimetype": "text/x-python",
   "name": "python",
   "nbconvert_exporter": "python",
   "pygments_lexer": "ipython3",
   "version": "3.6.5"
  }
 },
 "nbformat": 4,
 "nbformat_minor": 2
}
