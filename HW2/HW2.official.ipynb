{
 "cells": [
  {
   "cell_type": "code",
   "execution_count": 1,
   "metadata": {},
   "outputs": [
    {
     "name": "stderr",
     "output_type": "stream",
     "text": [
      "/home/hoang/Documents/school/4400/env/lib/python3.6/importlib/_bootstrap.py:219: RuntimeWarning: numpy.dtype size changed, may indicate binary incompatibility. Expected 96, got 88\n",
      "  return f(*args, **kwds)\n"
     ]
    }
   ],
   "source": [
    "import pandas as pd\n",
    "import numpy as np\n",
    "import matplotlib.pyplot as plt\n",
    "from sklearn.linear_model import LogisticRegression\n",
    "from sklearn.model_selection import train_test_split\n",
    "from sklearn.metrics import confusion_matrix, accuracy_score, precision_score, recall_score, f1_score"
   ]
  },
  {
   "cell_type": "code",
   "execution_count": 36,
   "metadata": {},
   "outputs": [],
   "source": [
    "# Load data\n",
    "matrix = []\n",
    "\n",
    "with open(\"spambase.data\", \"r\") as raw_data:\n",
    "    for raw_line in raw_data:\n",
    "        line = [float(x) for x in raw_line.split(\",\")]\n",
    "        matrix.append(line)\n",
    "\n",
    "data = pd.DataFrame(matrix)\n",
    "row, col = data.shape\n",
    "X, y = data.iloc[:,:col - 1], data[col - 1]\n",
    "y = y.astype(bool)"
   ]
  },
  {
   "cell_type": "markdown",
   "metadata": {},
   "source": [
    "# Question 1: Logistic Regression"
   ]
  },
  {
   "cell_type": "markdown",
   "metadata": {},
   "source": [
    "## Data spliting and training"
   ]
  },
  {
   "cell_type": "markdown",
   "metadata": {},
   "source": [
    "We will use a custom function from sklearn to split data into train and test set, and stratify the data based on the labels"
   ]
  },
  {
   "cell_type": "code",
   "execution_count": 37,
   "metadata": {},
   "outputs": [],
   "source": [
    "X_train, X_test, y_train, y_test = train_test_split(X, y, stratify=y)"
   ]
  },
  {
   "cell_type": "markdown",
   "metadata": {},
   "source": [
    "We will verify the size of the train_set to contain 39.4% of spam positive emails"
   ]
  },
  {
   "cell_type": "code",
   "execution_count": 38,
   "metadata": {},
   "outputs": [
    {
     "data": {
      "text/plain": [
       "0.3939130434782609"
      ]
     },
     "execution_count": 38,
     "metadata": {},
     "output_type": "execute_result"
    }
   ],
   "source": [
    "len([x for x in y_train if x == 1.0]) / len(y_train)"
   ]
  },
  {
   "cell_type": "code",
   "execution_count": 39,
   "metadata": {},
   "outputs": [
    {
     "data": {
      "text/plain": [
       "LogisticRegression(C=1.0, class_weight=None, dual=False, fit_intercept=True,\n",
       "          intercept_scaling=1, max_iter=100, multi_class='ovr', n_jobs=1,\n",
       "          penalty='l2', random_state=None, solver='liblinear', tol=0.0001,\n",
       "          verbose=0, warm_start=False)"
      ]
     },
     "execution_count": 39,
     "metadata": {},
     "output_type": "execute_result"
    }
   ],
   "source": [
    "# Training data on logistic regression\n",
    "\n",
    "logReg = LogisticRegression()\n",
    "logReg.fit(X_train, y_train)"
   ]
  },
  {
   "cell_type": "code",
   "execution_count": 42,
   "metadata": {},
   "outputs": [
    {
     "name": "stdout",
     "output_type": "stream",
     "text": [
      "Confusion matrix\n",
      " [[657  52]\n",
      " [ 40 402]] \n",
      "\n",
      "True negative: 657 , false positive: 52 , false negative: 40 ,true positive: 402 \n",
      "\n",
      "Accuracy score 0.9200695047784535 \n",
      "\n",
      "Precision 0.8854625550660793 \n",
      "\n",
      "Recall 0.9095022624434389 \n",
      "\n",
      "F1 score 0.8973214285714286 \n",
      "\n"
     ]
    }
   ],
   "source": [
    "# data on the testing set\n",
    "\n",
    "test_data = logReg.predict(X_test)\n",
    "\n",
    "print(\"Confusion matrix\\n\", confusion_matrix(test_data, y_test), \"\\n\")\n",
    "\n",
    "tn, fp, fn, tp = confusion_matrix(test_data, y_test).ravel()\n",
    "print(\"True negative:\", tn, \", false positive:\", fp, \", false negative:\", fn, \",true positive:\", tp, \"\\n\")\n",
    "\n",
    "print(\"Accuracy score\", accuracy_score(test_data, y_test), \"\\n\")\n",
    "\n",
    "print(\"Precision\", precision_score(test_data, y_test), \"\\n\")\n",
    "\n",
    "print(\"Recall\", recall_score(test_data, y_test), \"\\n\")\n",
    "\n",
    "print(\"F1 score\", f1_score(test_data, y_test), \"\\n\")"
   ]
  },
  {
   "cell_type": "markdown",
   "metadata": {},
   "source": [
    "## Feature coefficients"
   ]
  },
  {
   "cell_type": "code",
   "execution_count": 43,
   "metadata": {},
   "outputs": [
    {
     "name": "stdout",
     "output_type": "stream",
     "text": [
      "[[-3.52934268e-01 -1.76611707e-01  1.35145792e-01  8.05758966e-01\n",
      "   6.00426393e-01  1.04465626e+00  1.80243200e+00  8.09355388e-01\n",
      "   6.38757879e-01  8.83938620e-02 -3.40252350e-01 -2.03688280e-01\n",
      "  -6.45153111e-02  3.58285245e-01  8.31134777e-01  9.73495767e-01\n",
      "   6.10583325e-01  3.10270065e-01  7.85826391e-02  7.52969095e-01\n",
      "   2.80129271e-01  1.94931617e-01  1.75757289e+00  3.55686503e-01\n",
      "  -1.57986670e+00 -9.62906884e-01 -3.15553384e+00  4.13637356e-01\n",
      "  -1.15229430e+00 -5.38407927e-01 -4.12305191e-01 -2.65139384e-01\n",
      "  -9.54308034e-01 -1.63721583e-01 -1.12462253e+00  7.48928764e-01\n",
      "  -3.40297011e-02  3.15199298e-01 -6.61403514e-01 -5.88474668e-01\n",
      "  -1.42462914e+00 -1.73338063e+00 -7.73331027e-01 -1.25412304e+00\n",
      "  -7.87465318e-01 -1.27039564e+00 -5.65497268e-01 -1.52060295e+00\n",
      "  -1.04372513e+00 -4.60701096e-01 -3.25120424e-01  2.61809336e-01\n",
      "   3.78662239e+00  1.15420687e+00  7.21422815e-02  7.79967147e-03\n",
      "   5.13449123e-04]]\n"
     ]
    }
   ],
   "source": [
    "coef = logReg.coef_\n",
    "print(coef)"
   ]
  },
  {
   "cell_type": "code",
   "execution_count": 44,
   "metadata": {},
   "outputs": [],
   "source": [
    "feature_sort = sorted(X_train.columns, key=lambda x: -coef.reshape(-1, 1)[x])"
   ]
  },
  {
   "cell_type": "code",
   "execution_count": 45,
   "metadata": {},
   "outputs": [
    {
     "data": {
      "text/plain": [
       "(52, 26)"
      ]
     },
     "execution_count": 45,
     "metadata": {},
     "output_type": "execute_result"
    }
   ],
   "source": [
    "feature_sort[0], feature_sort[-1]"
   ]
  },
  {
   "cell_type": "markdown",
   "metadata": {},
   "source": [
    "Feature number 52 is contributing the most to the classification of spam email. According to the NAMES database, this feature is the character \"$\". Feature number 26 is contributing less to the classification of spam email, which is the word \"hpl\"."
   ]
  },
  {
   "cell_type": "markdown",
   "metadata": {},
   "source": [
    "## Varying threshold "
   ]
  },
  {
   "cell_type": "code",
   "execution_count": 49,
   "metadata": {},
   "outputs": [
    {
     "data": {
      "text/plain": [
       "array([False,  True])"
      ]
     },
     "execution_count": 49,
     "metadata": {},
     "output_type": "execute_result"
    }
   ],
   "source": [
    "proba = logReg.predict_proba(X_test)\n",
    "logReg.classes_"
   ]
  },
  {
   "cell_type": "code",
   "execution_count": 58,
   "metadata": {},
   "outputs": [],
   "source": [
    "def get_prediction(T, proba):\n",
    "    result = []\n",
    "    for pred in proba:\n",
    "        if pred[0] > T:\n",
    "            result.append(False)\n",
    "        else:\n",
    "            result.append(True)\n",
    "    return result\n",
    "\n",
    "def get_accuracy(a1, a2):\n",
    "    assert len(a1) == len(a2)\n",
    "    diff = 0\n",
    "    for i in range(len(a1)):\n",
    "        if a1[i] != a2[i]:\n",
    "            diff += 1\n",
    "            \n",
    "    return 1 - diff/len(a1)"
   ]
  },
  {
   "cell_type": "code",
   "execution_count": 67,
   "metadata": {},
   "outputs": [],
   "source": [
    "ori = logReg.predict(X_test)\n",
    "test_labels = np.array(y_test)"
   ]
  },
  {
   "cell_type": "code",
   "execution_count": 69,
   "metadata": {},
   "outputs": [
    {
     "data": {
      "text/plain": [
       "0.9200695047784535"
      ]
     },
     "execution_count": 69,
     "metadata": {},
     "output_type": "execute_result"
    }
   ],
   "source": [
    "# Test accuracy on T = 0.5\n",
    "\n",
    "Tpoint5 = get_prediction(0.5, proba)\n",
    "get_accuracy(Tpoint5, test_labels)"
   ]
  },
  {
   "cell_type": "code",
   "execution_count": 70,
   "metadata": {},
   "outputs": [
    {
     "name": "stdout",
     "output_type": "stream",
     "text": [
      "Accuracy on threshold T= 0.1  is:  0.8340573414422241\n",
      "Accuracy on threshold T= 0.2  is:  0.8731537793223284\n",
      "Accuracy on threshold T= 0.3  is:  0.9035621198957429\n",
      "Accuracy on threshold T= 0.4  is:  0.9105125977410947\n",
      "Accuracy on threshold T= 0.5  is:  0.9200695047784535\n",
      "Accuracy on threshold T= 0.6  is:  0.9278887923544744\n",
      "Accuracy on threshold T= 0.7  is:  0.9087749782797567\n",
      "Accuracy on threshold T= 0.8  is:  0.8774978279756733\n",
      "Accuracy on threshold T= 0.9  is:  0.8001737619461338\n"
     ]
    }
   ],
   "source": [
    "# Accuracy on each point of the threshold\n",
    "acc = []\n",
    "\n",
    "for T in thres:\n",
    "    pred = get_prediction(T, proba)\n",
    "    a = get_accuracy(pred, test_labels)\n",
    "    \n",
    "    print(\"Accuracy on threshold T=\", T, \" is: \", a)\n",
    "    acc.append(a)"
   ]
  },
  {
   "cell_type": "code",
   "execution_count": 71,
   "metadata": {},
   "outputs": [
    {
     "data": {
      "text/plain": [
       "[<matplotlib.lines.Line2D at 0x7fe8e31276a0>]"
      ]
     },
     "execution_count": 71,
     "metadata": {},
     "output_type": "execute_result"
    },
    {
     "data": {
      "image/png": "[encoded data removed]",
      "text/plain": [
       "<Figure size 432x288 with 1 Axes>"
      ]
     },
     "metadata": {
      "needs_background": "light"
     },
     "output_type": "display_data"
    }
   ],
   "source": [
    " # Plotting graph on accuracy and T\n",
    "plt.plot(thres, acc)"
   ]
  },
  {
   "cell_type": "code",
   "execution_count": null,
   "metadata": {},
   "outputs": [],
   "source": []
  }
 ],
 "metadata": {
  "kernelspec": {
   "display_name": "Python 3",
   "language": "python",
   "name": "python3"
  },
  "language_info": {
   "codemirror_mode": {
    "name": "ipython",
    "version": 3
   },
   "file_extension": ".py",
   "mimetype": "text/x-python",
   "name": "python",
   "nbconvert_exporter": "python",
   "pygments_lexer": "ipython3",
   "version": "3.6.5"
  }
 },
 "nbformat": 4,
 "nbformat_minor": 2
}
