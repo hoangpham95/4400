{
 "cells": [
  {
   "cell_type": "code",
   "execution_count": 1,
   "metadata": {},
   "outputs": [],
   "source": [
    "import pandas as pd\n",
    "import numpy as np\n",
    "import matplotlib.pyplot as plt\n",
    "from sklearn.linear_model import LogisticRegression\n",
    "from sklearn.discriminant_analysis import LinearDiscriminantAnalysis\n",
    "from sklearn.neighbors import KNeighborsClassifier\n",
    "from sklearn.tree import DecisionTreeClassifier\n",
    "from sklearn.model_selection import train_test_split, cross_val_score\n",
    "from sklearn.metrics import confusion_matrix, accuracy_score, precision_score, recall_score, f1_score, roc_curve, auc"
   ]
  },
  {
   "cell_type": "code",
   "execution_count": 2,
   "metadata": {},
   "outputs": [],
   "source": [
    "# Load data\n",
    "matrix = []\n",
    "\n",
    "with open(\"spambase.data\", \"r\") as raw_data:\n",
    "    for raw_line in raw_data:\n",
    "        line = [float(x) for x in raw_line.split(\",\")]\n",
    "        matrix.append(line)\n",
    "\n",
    "data = pd.DataFrame(matrix)\n",
    "row, col = data.shape\n",
    "X, y = data.iloc[:,:col - 1], data[col - 1]\n",
    "y = y.astype(bool)"
   ]
  },
  {
   "cell_type": "markdown",
   "metadata": {},
   "source": [
    "# Question 1: Logistic Regression"
   ]
  },
  {
   "cell_type": "markdown",
   "metadata": {},
   "source": [
    "## Data spliting and training"
   ]
  },
  {
   "cell_type": "markdown",
   "metadata": {},
   "source": [
    "We will use a custom function from sklearn to split data into train and test set, and stratify the data based on the labels"
   ]
  },
  {
   "cell_type": "code",
   "execution_count": 3,
   "metadata": {},
   "outputs": [],
   "source": [
    "X_train, X_test, y_train, y_test = train_test_split(X, y, stratify=y)"
   ]
  },
  {
   "cell_type": "markdown",
   "metadata": {},
   "source": [
    "We will verify the size of the train_set to contain 39.4% of spam positive emails"
   ]
  },
  {
   "cell_type": "code",
   "execution_count": 4,
   "metadata": {},
   "outputs": [
    {
     "data": {
      "text/plain": [
       "0.3939130434782609"
      ]
     },
     "execution_count": 4,
     "metadata": {},
     "output_type": "execute_result"
    }
   ],
   "source": [
    "len([x for x in y_train if x == 1.0]) / len(y_train)"
   ]
  },
  {
   "cell_type": "code",
   "execution_count": 5,
   "metadata": {},
   "outputs": [
    {
     "data": {
      "text/plain": [
       "LogisticRegression(C=1.0, class_weight=None, dual=False, fit_intercept=True,\n",
       "          intercept_scaling=1, max_iter=100, multi_class='ovr', n_jobs=1,\n",
       "          penalty='l2', random_state=None, solver='liblinear', tol=0.0001,\n",
       "          verbose=0, warm_start=False)"
      ]
     },
     "execution_count": 5,
     "metadata": {},
     "output_type": "execute_result"
    }
   ],
   "source": [
    "# Training data on logistic regression\n",
    "\n",
    "logReg = LogisticRegression()\n",
    "logReg.fit(X_train, y_train)"
   ]
  },
  {
   "cell_type": "code",
   "execution_count": 6,
   "metadata": {},
   "outputs": [
    {
     "name": "stdout",
     "output_type": "stream",
     "text": [
      "Confusion matrix\n",
      " [[664  59]\n",
      " [ 33 395]] \n",
      "\n",
      "True negative: 664 , false positive: 59 , false negative: 33 ,true positive: 395 \n",
      "\n",
      "Accuracy score 0.9200695047784535 \n",
      "\n",
      "Precision 0.8700440528634361 \n",
      "\n",
      "Recall 0.9228971962616822 \n",
      "\n",
      "F1 score 0.8956916099773243 \n",
      "\n"
     ]
    }
   ],
   "source": [
    "# data on the testing set\n",
    "\n",
    "test_data = logReg.predict(X_test)\n",
    "\n",
    "print(\"Confusion matrix\\n\", confusion_matrix(test_data, y_test), \"\\n\")\n",
    "\n",
    "tn, fp, fn, tp = confusion_matrix(test_data, y_test).ravel()\n",
    "print(\"True negative:\", tn, \", false positive:\", fp, \", false negative:\", fn, \",true positive:\", tp, \"\\n\")\n",
    "\n",
    "print(\"Accuracy score\", accuracy_score(test_data, y_test), \"\\n\")\n",
    "\n",
    "print(\"Precision\", precision_score(test_data, y_test), \"\\n\")\n",
    "\n",
    "print(\"Recall\", recall_score(test_data, y_test), \"\\n\")\n",
    "\n",
    "print(\"F1 score\", f1_score(test_data, y_test), \"\\n\")"
   ]
  },
  {
   "cell_type": "markdown",
   "metadata": {},
   "source": [
    "## Feature coefficients"
   ]
  },
  {
   "cell_type": "code",
   "execution_count": 7,
   "metadata": {},
   "outputs": [
    {
     "name": "stdout",
     "output_type": "stream",
     "text": [
      "[[-3.03683242e-01 -1.61522815e-01  2.04203936e-01  8.87138383e-01\n",
      "   6.17357392e-01  1.06316836e+00  2.19249313e+00  4.48460468e-01\n",
      "   5.49221571e-01  6.95590664e-02 -6.60141639e-02 -2.12340419e-01\n",
      "  -1.48393848e-01  6.73040431e-03  1.12310643e+00  9.21571200e-01\n",
      "   8.86995753e-01  1.53143749e-01  6.38798671e-02  8.27577792e-01\n",
      "   2.18436122e-01  2.65090794e-01  2.20527694e+00  8.59427755e-01\n",
      "  -1.62665888e+00 -1.01611620e+00 -3.44547056e+00  3.22973411e-01\n",
      "  -1.25024066e+00 -5.87204971e-01 -2.73571008e-01 -6.06811149e-02\n",
      "  -8.59757292e-01 -1.71938312e-02 -9.42368979e-01  7.04687263e-01\n",
      "  -4.53200082e-03 -4.55611073e-01 -6.84271070e-01 -3.23792795e-01\n",
      "  -1.34508133e+00 -1.45759617e+00 -6.93468343e-01 -1.37481434e+00\n",
      "  -6.98280319e-01 -1.47478543e+00 -9.76451686e-01 -1.28310935e+00\n",
      "  -1.09643213e+00 -2.46950673e-01 -5.01702531e-01  2.87343630e-01\n",
      "   3.20432095e+00  1.03634952e+00 -1.02859385e-02  6.64745003e-03\n",
      "   6.37587807e-04]]\n"
     ]
    }
   ],
   "source": [
    "coef = logReg.coef_\n",
    "print(coef)"
   ]
  },
  {
   "cell_type": "code",
   "execution_count": 8,
   "metadata": {},
   "outputs": [],
   "source": [
    "feature_sort = sorted(X_train.columns, key=lambda x: -coef.reshape(-1, 1)[x])"
   ]
  },
  {
   "cell_type": "code",
   "execution_count": 9,
   "metadata": {},
   "outputs": [
    {
     "data": {
      "text/plain": [
       "(52, 26)"
      ]
     },
     "execution_count": 9,
     "metadata": {},
     "output_type": "execute_result"
    }
   ],
   "source": [
    "feature_sort[0], feature_sort[-1]"
   ]
  },
  {
   "cell_type": "markdown",
   "metadata": {},
   "source": [
    "Feature number 52 is contributing the most to the classification of spam email. According to the NAMES database, this feature is the character \"$\". Feature number 26 is contributing less to the classification of spam email, which is the word \"hpl\"."
   ]
  },
  {
   "cell_type": "markdown",
   "metadata": {},
   "source": [
    "## Varying threshold "
   ]
  },
  {
   "cell_type": "code",
   "execution_count": 10,
   "metadata": {},
   "outputs": [
    {
     "data": {
      "text/plain": [
       "array([False,  True])"
      ]
     },
     "execution_count": 10,
     "metadata": {},
     "output_type": "execute_result"
    }
   ],
   "source": [
    "proba = logReg.predict_proba(X_test)\n",
    "logReg.classes_"
   ]
  },
  {
   "cell_type": "code",
   "execution_count": 11,
   "metadata": {},
   "outputs": [],
   "source": [
    "def get_prediction(T, proba):\n",
    "    result = []\n",
    "    for pred in proba:\n",
    "        if pred[0] > T:\n",
    "            result.append(False)\n",
    "        else:\n",
    "            result.append(True)\n",
    "    return result\n",
    "\n",
    "def get_accuracy(a1, a2):\n",
    "    assert len(a1) == len(a2)\n",
    "    diff = 0\n",
    "    for i in range(len(a1)):\n",
    "        if a1[i] != a2[i]:\n",
    "            diff += 1\n",
    "            \n",
    "    return 1 - diff/len(a1)"
   ]
  },
  {
   "cell_type": "code",
   "execution_count": 12,
   "metadata": {},
   "outputs": [],
   "source": [
    "ori = logReg.predict(X_test)\n",
    "test_labels = np.array(y_test)"
   ]
  },
  {
   "cell_type": "code",
   "execution_count": 13,
   "metadata": {},
   "outputs": [
    {
     "data": {
      "text/plain": [
       "0.9200695047784535"
      ]
     },
     "execution_count": 13,
     "metadata": {},
     "output_type": "execute_result"
    }
   ],
   "source": [
    "# Test accuracy on T = 0.5\n",
    "\n",
    "Tpoint5 = get_prediction(0.5, proba)\n",
    "get_accuracy(Tpoint5, test_labels)"
   ]
  },
  {
   "cell_type": "code",
   "execution_count": 14,
   "metadata": {},
   "outputs": [
    {
     "name": "stdout",
     "output_type": "stream",
     "text": [
      "Accuracy on threshold T= 0.1 is:  0.8297132927888793\n",
      "Accuracy on threshold T= 0.2 is:  0.8740225890529973\n",
      "Accuracy on threshold T= 0.3 is:  0.894005212858384\n",
      "Accuracy on threshold T= 0.4 is:  0.9079061685490878\n",
      "Accuracy on threshold T= 0.5 is:  0.9200695047784535\n",
      "Accuracy on threshold T= 0.6 is:  0.9244135534317984\n",
      "Accuracy on threshold T= 0.7 is:  0.9122502172024327\n",
      "Accuracy on threshold T= 0.8 is:  0.8688097306689835\n",
      "Accuracy on threshold T= 0.9 is:  0.8132059079061685\n"
     ]
    }
   ],
   "source": [
    "# Accuracy on each point of the threshold\n",
    "acc = []\n",
    "thres = [0.1, 0.2, 0.3, 0.4, 0.5, 0.6, 0.7, 0.8, 0.9]\n",
    "for T in thres:\n",
    "    pred = get_prediction(T, proba)\n",
    "    a = get_accuracy(pred, test_labels)\n",
    "    \n",
    "    print(\"Accuracy on threshold T=\", T, \"is: \", a)\n",
    "    acc.append(a)"
   ]
  },
  {
   "cell_type": "code",
   "execution_count": 15,
   "metadata": {
    "scrolled": true
   },
   "outputs": [
    {
     "data": {
      "text/plain": [
       "[<matplotlib.lines.Line2D at 0x7fd6e257aeb8>]"
      ]
     },
     "execution_count": 15,
     "metadata": {},
     "output_type": "execute_result"
    },
    {
     "data": {
      "image/png": "[encoded data removed]",
      "text/plain": [
       "<Figure size 432x288 with 1 Axes>"
      ]
     },
     "metadata": {
      "needs_background": "light"
     },
     "output_type": "display_data"
    }
   ],
   "source": [
    " # Plotting graph on accuracy and T\n",
    "plt.plot(thres, acc)"
   ]
  },
  {
   "cell_type": "markdown",
   "metadata": {},
   "source": [
    "# Question 2: Classifiers comparison"
   ]
  },
  {
   "cell_type": "markdown",
   "metadata": {},
   "source": [
    "We will reuse the splitted dataset as Question 1. Logistic regression is trained in question 1, so we will continue with kNN, LDA and decision tree."
   ]
  },
  {
   "cell_type": "code",
   "execution_count": 16,
   "metadata": {},
   "outputs": [],
   "source": [
    "def get_training_score(model):\n",
    "    model.fit(X_train, y_train)\n",
    "    # accuracy \n",
    "    accuracy = model.score(X_test, y_test)\n",
    "    error = 1 - accuracy\n",
    "    \n",
    "    print(\"Accuracy:\", accuracy, \"error:\", error)"
   ]
  },
  {
   "cell_type": "markdown",
   "metadata": {},
   "source": [
    "## Experimenting kNN and 4 classifiers"
   ]
  },
  {
   "cell_type": "code",
   "execution_count": 17,
   "metadata": {},
   "outputs": [],
   "source": [
    "lda = LinearDiscriminantAnalysis()\n",
    "knn = KNeighborsClassifier(n_neighbors=7)\n",
    "decTree = DecisionTreeClassifier()"
   ]
  },
  {
   "cell_type": "markdown",
   "metadata": {},
   "source": [
    "Accuracy report on LDA"
   ]
  },
  {
   "cell_type": "code",
   "execution_count": 18,
   "metadata": {},
   "outputs": [
    {
     "name": "stdout",
     "output_type": "stream",
     "text": [
      "Accuracy: 0.8818418766290183 error: 0.11815812337098175\n"
     ]
    }
   ],
   "source": [
    "get_training_score(lda)"
   ]
  },
  {
   "cell_type": "markdown",
   "metadata": {},
   "source": [
    "Accuracy report on KNN"
   ]
  },
  {
   "cell_type": "code",
   "execution_count": 19,
   "metadata": {},
   "outputs": [
    {
     "name": "stdout",
     "output_type": "stream",
     "text": [
      "Accuracy: 0.789748045178106 error: 0.21025195482189396\n",
      "Accuracy: 0.8114682884448305 error: 0.18853171155516946\n",
      "Accuracy: 0.7949609035621199 error: 0.2050390964378801\n",
      "Accuracy: 0.792354474370113 error: 0.20764552562988703\n",
      "Accuracy: 0.7949609035621199 error: 0.2050390964378801\n",
      "Accuracy: 0.789748045178106 error: 0.21025195482189396\n",
      "Accuracy: 0.7784535186794093 error: 0.22154648132059074\n"
     ]
    }
   ],
   "source": [
    "neighbors = [2, 3, 4, 5, 6, 7, 9]\n",
    "for n in neighbors:\n",
    "    knn = KNeighborsClassifier(n_neighbors=n)\n",
    "    get_training_score(knn)"
   ]
  },
  {
   "cell_type": "markdown",
   "metadata": {},
   "source": [
    "On the number of neighbors, k = 3 returns the highest accuracy (80%) and lowest error (20%)."
   ]
  },
  {
   "cell_type": "markdown",
   "metadata": {},
   "source": [
    "Accuracy report on decision tree"
   ]
  },
  {
   "cell_type": "code",
   "execution_count": 20,
   "metadata": {},
   "outputs": [
    {
     "name": "stdout",
     "output_type": "stream",
     "text": [
      "Accuracy: 0.9035621198957429 error: 0.09643788010425713\n"
     ]
    }
   ],
   "source": [
    "get_training_score(decTree)"
   ]
  },
  {
   "cell_type": "markdown",
   "metadata": {},
   "source": [
    "Accuracy report on logistic regression"
   ]
  },
  {
   "cell_type": "code",
   "execution_count": 21,
   "metadata": {},
   "outputs": [
    {
     "name": "stdout",
     "output_type": "stream",
     "text": [
      "Accuracy: 0.9200695047784535 error: 0.0799304952215465\n"
     ]
    }
   ],
   "source": [
    "get_training_score(logReg)"
   ]
  },
  {
   "cell_type": "markdown",
   "metadata": {},
   "source": [
    "## ROC curve and AUC"
   ]
  },
  {
   "cell_type": "markdown",
   "metadata": {},
   "source": [
    "This piece of code is referenced from sklearn's own page [here](http://scikit-learn.org/stable/auto_examples/model_selection/plot_roc_crossval.html)"
   ]
  },
  {
   "cell_type": "code",
   "execution_count": 22,
   "metadata": {},
   "outputs": [],
   "source": [
    "def draw_roc(model):\n",
    "    y_pred = model.predict(X_test)\n",
    "    fpr, tpr, threshold = roc_curve(y_true=y_test, y_score=y_pred)\n",
    "    roc_auc = auc(fpr, tpr)\n",
    "    plt.plot(fpr, tpr, 'g', label = 'AUC = %0.2f' % roc_auc)\n",
    "    plt.legend(loc = 'lower right')\n",
    "    plt.plot([0, 1], [0, 1],'r--')\n",
    "    plt.xlim([0, 1])\n",
    "    plt.ylim([0, 1])\n",
    "    plt.ylabel('True Positive Rate')\n",
    "    plt.xlabel('False Positive Rate')\n",
    "    plt.show()"
   ]
  },
  {
   "cell_type": "code",
   "execution_count": 23,
   "metadata": {},
   "outputs": [
    {
     "data": {
      "image/png": "[encoded data removed]",
      "text/plain": [
       "<Figure size 432x288 with 1 Axes>"
      ]
     },
     "metadata": {
      "needs_background": "light"
     },
     "output_type": "display_data"
    }
   ],
   "source": [
    "draw_roc(logReg)"
   ]
  },
  {
   "cell_type": "code",
   "execution_count": 24,
   "metadata": {},
   "outputs": [
    {
     "data": {
      "image/png": "[encoded data removed]",
      "text/plain": [
       "<Figure size 432x288 with 1 Axes>"
      ]
     },
     "metadata": {
      "needs_background": "light"
     },
     "output_type": "display_data"
    }
   ],
   "source": [
    "draw_roc(lda)"
   ]
  },
  {
   "cell_type": "code",
   "execution_count": 25,
   "metadata": {},
   "outputs": [
    {
     "data": {
      "image/png": "[encoded data removed]",
      "text/plain": [
       "<Figure size 432x288 with 1 Axes>"
      ]
     },
     "metadata": {
      "needs_background": "light"
     },
     "output_type": "display_data"
    }
   ],
   "source": [
    "draw_roc(knn)"
   ]
  },
  {
   "cell_type": "code",
   "execution_count": 26,
   "metadata": {},
   "outputs": [
    {
     "data": {
      "image/png": "[encoded data removed]",
      "text/plain": [
       "<Figure size 432x288 with 1 Axes>"
      ]
     },
     "metadata": {
      "needs_background": "light"
     },
     "output_type": "display_data"
    }
   ],
   "source": [
    "draw_roc(decTree)"
   ]
  },
  {
   "cell_type": "markdown",
   "metadata": {},
   "source": [
    "# Question 3: kNN"
   ]
  },
  {
   "cell_type": "markdown",
   "metadata": {},
   "source": [
    "The euclidean distance can be calculated using `numpy.linalg.norm` function on the subtraction of 2 vectors"
   ]
  },
  {
   "cell_type": "code",
   "execution_count": 27,
   "metadata": {},
   "outputs": [],
   "source": [
    "import heapq\n",
    "\n",
    "class BinaryKNNClassifier:\n",
    "    def __init__(self, labels=[False, True], n_neighbors=5):\n",
    "        self.labels = labels\n",
    "        self.n_neighbors = n_neighbors\n",
    "    \n",
    "    def fit(self, X, y):\n",
    "        self.X = X\n",
    "        self.y = y\n",
    "    \n",
    "    def euclideanDistance(self, p1, p2):\n",
    "        return np.linalg.norm(p1 - p2)\n",
    "    \n",
    "    def predict_instance_proba(self, test):\n",
    "        distances = []\n",
    "        heapq.heapify(distances)\n",
    "\n",
    "        for idx, train in self.X.iterrows():\n",
    "            dist = self.euclideanDistance(test, train)\n",
    "            if len(distances) < self.n_neighbors:\n",
    "                heapq.heappush(distances, (-dist, self.y.loc[idx]))\n",
    "            elif distances[0][0] <= -dist:\n",
    "                heapq.heapreplace(distances, (-dist, self.y.loc[idx]))\n",
    "\n",
    "\n",
    "        r = [0] * len(self.labels)\n",
    "        for n in distances:\n",
    "            r[n[1]] += 1\n",
    "        return [x * 1.0/self.n_neighbors for x in r]\n",
    "    \n",
    "    def predict_all_proba(self, test_set):\n",
    "        result = []\n",
    "        for i, test in test_set.iterrows():\n",
    "            result.append(self.predict_instance_proba(test))\n",
    "        return result\n",
    "    \n",
    "    def predict(self, test_set):\n",
    "        predict_proba = self.predict_all_proba(test_set)\n",
    "        result = []\n",
    "        for pred in predict_proba:\n",
    "            if pred[0] > pred[1]:\n",
    "                result.append(False)\n",
    "            else:\n",
    "                result.append(True)\n",
    "        return result"
   ]
  },
  {
   "cell_type": "code",
   "execution_count": 28,
   "metadata": {},
   "outputs": [],
   "source": [
    "# Testing\n",
    "knnBinary = BinaryKNNClassifier(n_neighbors=5)"
   ]
  },
  {
   "cell_type": "code",
   "execution_count": 29,
   "metadata": {},
   "outputs": [
    {
     "name": "stderr",
     "output_type": "stream",
     "text": [
      "/home/hoang/Documents/school/4400/env/lib/python3.6/site-packages/ipykernel_launcher.py:29: DeprecationWarning: In future, it will be an error for 'np.bool_' scalars to be interpreted as an index\n"
     ]
    }
   ],
   "source": [
    "knnBinary.fit(X_train, y_train)\n",
    "pred = knnBinary.predict(X_test[:100])"
   ]
  },
  {
   "cell_type": "code",
   "execution_count": 30,
   "metadata": {},
   "outputs": [],
   "source": [
    "knn = KNeighborsClassifier(n_neighbors=5)\n",
    "knn.fit(X_train, y_train)\n",
    "sklearn_pred = knn.predict(X_test[:100])"
   ]
  },
  {
   "cell_type": "code",
   "execution_count": 31,
   "metadata": {},
   "outputs": [
    {
     "data": {
      "text/plain": [
       "1.0"
      ]
     },
     "execution_count": 31,
     "metadata": {},
     "output_type": "execute_result"
    }
   ],
   "source": [
    "get_accuracy(pred, sklearn_pred)"
   ]
  },
  {
   "cell_type": "markdown",
   "metadata": {},
   "source": [
    "The reason I only tested with 100 instances of the test set is that kNN is too slow if running with only one thread. The complexity to calculate the neighbor of 1 test instance is `O(sizeof(train) * sizeof(features)`. This training set has 57 features and approximately 4000 training instances. Hence, it took quite a while to get the entire dataset. On 100 instances, the accuracy of my implementation is the same as sklearn's implementation, and the accuracy of the `predict_proba` is the same either:"
   ]
  },
  {
   "cell_type": "code",
   "execution_count": 32,
   "metadata": {},
   "outputs": [
    {
     "name": "stderr",
     "output_type": "stream",
     "text": [
      "/home/hoang/Documents/school/4400/env/lib/python3.6/site-packages/ipykernel_launcher.py:29: DeprecationWarning: In future, it will be an error for 'np.bool_' scalars to be interpreted as an index\n"
     ]
    }
   ],
   "source": [
    "pred_proba = knnBinary.predict_all_proba(X_test[:100])\n",
    "sklearn_pred_proba = knn.predict_proba(X_test[:100])"
   ]
  },
  {
   "cell_type": "code",
   "execution_count": 33,
   "metadata": {},
   "outputs": [
    {
     "name": "stdout",
     "output_type": "stream",
     "text": [
      "0\n"
     ]
    }
   ],
   "source": [
    "diff = 0\n",
    "for i in range(len(pred_proba)):\n",
    "    my = pred_proba[i]\n",
    "    sk = sklearn_pred_proba[i]\n",
    "    if my[0] != sk[0] and my[1] != sk[1]:\n",
    "        diff += 1\n",
    "\n",
    "print(diff)"
   ]
  },
  {
   "cell_type": "markdown",
   "metadata": {},
   "source": [
    "Accuracy score of my own implementations (100 instances) compare to sklearn's accuracy"
   ]
  },
  {
   "cell_type": "code",
   "execution_count": 34,
   "metadata": {},
   "outputs": [
    {
     "data": {
      "text/plain": [
       "0.81"
      ]
     },
     "execution_count": 34,
     "metadata": {},
     "output_type": "execute_result"
    }
   ],
   "source": [
    "get_accuracy(pred, np.array(y_test[:100]))"
   ]
  },
  {
   "cell_type": "code",
   "execution_count": 35,
   "metadata": {},
   "outputs": [
    {
     "data": {
      "text/plain": [
       "0.81"
      ]
     },
     "execution_count": 35,
     "metadata": {},
     "output_type": "execute_result"
    }
   ],
   "source": [
    "get_accuracy(sklearn_pred, np.array(y_test[:100]))"
   ]
  },
  {
   "cell_type": "markdown",
   "metadata": {},
   "source": [
    "# Question 4"
   ]
  },
  {
   "cell_type": "code",
   "execution_count": 36,
   "metadata": {},
   "outputs": [],
   "source": [
    "class KFoldCrossValidation:\n",
    "    def __init__(self, model, labels=[0, 1], k=5):\n",
    "        self.model = model\n",
    "        self.labels = labels\n",
    "        self.k = k\n",
    "        \n",
    "    def fit(self, X, y):\n",
    "        self.X = X\n",
    "        self.y = y\n",
    "        \n",
    "    def cross_validation(self, data_folds):\n",
    "        score = []\n",
    "\n",
    "        for i in range(self.k):\n",
    "            train_test, label_test = data_folds[i]\n",
    "            \n",
    "            for j in range(self.k):\n",
    "                train_data, label = data_folds[j]\n",
    "                self.model.fit(train_data, label)\n",
    "                s = self.model.score(train_test, label_test)\n",
    "\n",
    "                score.append(s)\n",
    "        \n",
    "        return score\n",
    "    \n",
    "    def kfold(self):\n",
    "        size = int(self.X.shape[0] / self.k)\n",
    "\n",
    "        i = 0\n",
    "        result = []\n",
    "        data_folds = []\n",
    "        \n",
    "        while i <= self.X.shape[0] - size:\n",
    "            fold_i = self.X[i : i + size]\n",
    "            label_i = self.y[i : i + size]\n",
    "            data_folds.append((fold_i, label_i))\n",
    "            i += size\n",
    "            \n",
    "        score = self.cross_validation(data_folds)\n",
    "        return np.average(score)"
   ]
  },
  {
   "cell_type": "code",
   "execution_count": 37,
   "metadata": {},
   "outputs": [],
   "source": [
    "def get_avg_sklearn_CV(model, cv, X, y):\n",
    "    return np.average(cross_val_score(X=X, y=y, cv=cv, estimator=model))"
   ]
  },
  {
   "cell_type": "code",
   "execution_count": 38,
   "metadata": {},
   "outputs": [
    {
     "name": "stdout",
     "output_type": "stream",
     "text": [
      "Average CV with k= 5 for logistic regression 0.9204637681159421\n",
      "sklearn CV for logistic regression 0.9281062186828699\n",
      "----------------------------\n",
      "Average CV with k= 10 for logistic regression 0.9095072463768116\n",
      "sklearn CV for logistic regression 0.9292684997399137\n",
      "----------------------------\n",
      "Average CV with k= 20 for logistic regression 0.8995784883720931\n",
      "sklearn CV for logistic regression 0.9280964613554767\n",
      "----------------------------\n"
     ]
    }
   ],
   "source": [
    "k_folds = [5, 10, 20]\n",
    "\n",
    "for k in k_folds:\n",
    "    model = LogisticRegression()\n",
    "    kfc = KFoldCrossValidation(model=model, k=k)\n",
    "    kfc.fit(X_train, y_train)\n",
    "    print(\"Average CV with k=\", k, \"for logistic regression\", kfc.kfold())\n",
    "    print(\"sklearn CV for logistic regression\", get_avg_sklearn_CV(model, k, X_train, y_train))\n",
    "    print(\"----------------------------\")"
   ]
  },
  {
   "cell_type": "code",
   "execution_count": 39,
   "metadata": {},
   "outputs": [
    {
     "name": "stderr",
     "output_type": "stream",
     "text": [
      "/home/hoang/Documents/school/4400/env/lib/python3.6/site-packages/sklearn/discriminant_analysis.py:388: UserWarning: Variables are collinear.\n",
      "  warnings.warn(\"Variables are collinear.\")\n"
     ]
    },
    {
     "name": "stdout",
     "output_type": "stream",
     "text": [
      "Average CV with k= 5 for LDA 0.8839420289855073\n",
      "sklearn CV for logistic regression 0.8881124851910138\n"
     ]
    },
    {
     "name": "stderr",
     "output_type": "stream",
     "text": [
      "/home/hoang/Documents/school/4400/env/lib/python3.6/site-packages/sklearn/discriminant_analysis.py:388: UserWarning: Variables are collinear.\n",
      "  warnings.warn(\"Variables are collinear.\")\n"
     ]
    },
    {
     "name": "stdout",
     "output_type": "stream",
     "text": [
      "Average CV with k= 10 for LDA 0.8783478260869565\n",
      "sklearn CV for logistic regression 0.8878225119863782\n"
     ]
    },
    {
     "name": "stderr",
     "output_type": "stream",
     "text": [
      "/home/hoang/Documents/school/4400/env/lib/python3.6/site-packages/sklearn/discriminant_analysis.py:388: UserWarning: Variables are collinear.\n",
      "  warnings.warn(\"Variables are collinear.\")\n"
     ]
    },
    {
     "name": "stdout",
     "output_type": "stream",
     "text": [
      "Average CV with k= 20 for LDA 0.850203488372093\n",
      "sklearn CV for logistic regression 0.8854999512605055\n"
     ]
    }
   ],
   "source": [
    "for k in k_folds:\n",
    "    model = LinearDiscriminantAnalysis()\n",
    "    kfc = KFoldCrossValidation(model=model, k=k)\n",
    "    kfc.fit(X_train, y_train)\n",
    "    print(\"Average CV with k=\", k, \"for LDA\", kfc.kfold())\n",
    "    print(\"sklearn CV for logistic regression\", get_avg_sklearn_CV(model, k, X_train, y_train))"
   ]
  },
  {
   "cell_type": "markdown",
   "metadata": {},
   "source": [
    "With the result above, Logistic regression generally performs better than LDA for this specific dataset"
   ]
  }
 ],
 "metadata": {
  "kernelspec": {
   "display_name": "Python 3",
   "language": "python",
   "name": "python3"
  },
  "language_info": {
   "codemirror_mode": {
    "name": "ipython",
    "version": 3
   },
   "file_extension": ".py",
   "mimetype": "text/x-python",
   "name": "python",
   "nbconvert_exporter": "python",
   "pygments_lexer": "ipython3",
   "version": "3.6.6"
  }
 },
 "nbformat": 4,
 "nbformat_minor": 2
}
