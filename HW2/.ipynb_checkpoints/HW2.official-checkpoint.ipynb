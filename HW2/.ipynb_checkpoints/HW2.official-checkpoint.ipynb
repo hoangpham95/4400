{
 "cells": [
  {
   "cell_type": "code",
   "execution_count": 45,
   "metadata": {},
   "outputs": [],
   "source": [
    "import pandas as pd\n",
    "import numpy as np\n",
    "import matplotlib.pyplot as plt\n",
    "from sklearn.linear_model import LogisticRegression\n",
    "from sklearn.discriminant_analysis import LinearDiscriminantAnalysis\n",
    "from sklearn.neighbors import KNeighborsClassifier\n",
    "from sklearn.tree import DecisionTreeClassifier\n",
    "from sklearn.model_selection import train_test_split\n",
    "from sklearn.metrics import confusion_matrix, accuracy_score, precision_score, recall_score, f1_score, roc_curve, auc"
   ]
  },
  {
   "cell_type": "code",
   "execution_count": 2,
   "metadata": {},
   "outputs": [],
   "source": [
    "# Load data\n",
    "matrix = []\n",
    "\n",
    "with open(\"spambase.data\", \"r\") as raw_data:\n",
    "    for raw_line in raw_data:\n",
    "        line = [float(x) for x in raw_line.split(\",\")]\n",
    "        matrix.append(line)\n",
    "\n",
    "data = pd.DataFrame(matrix)\n",
    "row, col = data.shape\n",
    "X, y = data.iloc[:,:col - 1], data[col - 1]\n",
    "y = y.astype(bool)"
   ]
  },
  {
   "cell_type": "markdown",
   "metadata": {},
   "source": [
    "# Question 1: Logistic Regression"
   ]
  },
  {
   "cell_type": "markdown",
   "metadata": {},
   "source": [
    "## Data spliting and training"
   ]
  },
  {
   "cell_type": "markdown",
   "metadata": {},
   "source": [
    "We will use a custom function from sklearn to split data into train and test set, and stratify the data based on the labels"
   ]
  },
  {
   "cell_type": "code",
   "execution_count": 3,
   "metadata": {},
   "outputs": [],
   "source": [
    "X_train, X_test, y_train, y_test = train_test_split(X, y, stratify=y)"
   ]
  },
  {
   "cell_type": "markdown",
   "metadata": {},
   "source": [
    "We will verify the size of the train_set to contain 39.4% of spam positive emails"
   ]
  },
  {
   "cell_type": "code",
   "execution_count": 4,
   "metadata": {},
   "outputs": [
    {
     "data": {
      "text/plain": [
       "0.3939130434782609"
      ]
     },
     "execution_count": 4,
     "metadata": {},
     "output_type": "execute_result"
    }
   ],
   "source": [
    "len([x for x in y_train if x == 1.0]) / len(y_train)"
   ]
  },
  {
   "cell_type": "code",
   "execution_count": 5,
   "metadata": {},
   "outputs": [
    {
     "data": {
      "text/plain": [
       "LogisticRegression(C=1.0, class_weight=None, dual=False, fit_intercept=True,\n",
       "          intercept_scaling=1, max_iter=100, multi_class='ovr', n_jobs=1,\n",
       "          penalty='l2', random_state=None, solver='liblinear', tol=0.0001,\n",
       "          verbose=0, warm_start=False)"
      ]
     },
     "execution_count": 5,
     "metadata": {},
     "output_type": "execute_result"
    }
   ],
   "source": [
    "# Training data on logistic regression\n",
    "\n",
    "logReg = LogisticRegression()\n",
    "logReg.fit(X_train, y_train)"
   ]
  },
  {
   "cell_type": "code",
   "execution_count": 6,
   "metadata": {},
   "outputs": [
    {
     "name": "stdout",
     "output_type": "stream",
     "text": [
      "Confusion matrix\n",
      " [[667  44]\n",
      " [ 30 410]] \n",
      "\n",
      "True negative: 667 , false positive: 44 , false negative: 30 ,true positive: 410 \n",
      "\n",
      "Accuracy score 0.9357080799304952 \n",
      "\n",
      "Precision 0.9030837004405287 \n",
      "\n",
      "Recall 0.9318181818181818 \n",
      "\n",
      "F1 score 0.9172259507829978 \n",
      "\n"
     ]
    }
   ],
   "source": [
    "# data on the testing set\n",
    "\n",
    "test_data = logReg.predict(X_test)\n",
    "\n",
    "print(\"Confusion matrix\\n\", confusion_matrix(test_data, y_test), \"\\n\")\n",
    "\n",
    "tn, fp, fn, tp = confusion_matrix(test_data, y_test).ravel()\n",
    "print(\"True negative:\", tn, \", false positive:\", fp, \", false negative:\", fn, \",true positive:\", tp, \"\\n\")\n",
    "\n",
    "print(\"Accuracy score\", accuracy_score(test_data, y_test), \"\\n\")\n",
    "\n",
    "print(\"Precision\", precision_score(test_data, y_test), \"\\n\")\n",
    "\n",
    "print(\"Recall\", recall_score(test_data, y_test), \"\\n\")\n",
    "\n",
    "print(\"F1 score\", f1_score(test_data, y_test), \"\\n\")"
   ]
  },
  {
   "cell_type": "markdown",
   "metadata": {},
   "source": [
    "## Feature coefficients"
   ]
  },
  {
   "cell_type": "code",
   "execution_count": 7,
   "metadata": {},
   "outputs": [
    {
     "name": "stdout",
     "output_type": "stream",
     "text": [
      "[[-1.34325995e-01 -1.54709655e-01  1.65962213e-01  9.53765937e-01\n",
      "   4.88928132e-01  9.49544279e-01  2.15914229e+00  5.46555513e-01\n",
      "   9.40874881e-01  1.94695592e-01 -2.17736374e-01 -1.69024275e-01\n",
      "  -7.48091505e-02  1.73226584e-01  1.06841682e+00  9.28058192e-01\n",
      "   8.61141848e-01  1.79654109e-01  7.72075593e-02  7.80507893e-01\n",
      "   2.25017077e-01  2.27205377e-01  1.92045253e+00  3.39611039e-01\n",
      "  -1.67717563e+00 -9.79512639e-01 -3.82896755e+00  3.42652008e-01\n",
      "  -1.16510739e+00 -2.99419383e-01 -4.94107798e-01  6.08714843e-02\n",
      "  -7.04299105e-01  1.97352045e-01 -1.09165225e+00  7.19315208e-01\n",
      "  -7.77786812e-02 -5.20068443e-01 -6.38397785e-01 -4.16604593e-01\n",
      "  -1.40251262e+00 -1.69241799e+00 -6.94537485e-01 -1.16631014e+00\n",
      "  -8.02165050e-01 -1.36111530e+00 -1.05837110e+00 -1.53896830e+00\n",
      "  -1.08364032e+00 -9.16033976e-02 -4.56336872e-01  2.72864888e-01\n",
      "   4.04102560e+00  1.21910956e+00 -1.48917865e-02  8.35020876e-03\n",
      "   4.42709012e-04]]\n"
     ]
    }
   ],
   "source": [
    "coef = logReg.coef_\n",
    "print(coef)"
   ]
  },
  {
   "cell_type": "code",
   "execution_count": 8,
   "metadata": {},
   "outputs": [],
   "source": [
    "feature_sort = sorted(X_train.columns, key=lambda x: -coef.reshape(-1, 1)[x])"
   ]
  },
  {
   "cell_type": "code",
   "execution_count": 9,
   "metadata": {},
   "outputs": [
    {
     "data": {
      "text/plain": [
       "(52, 26)"
      ]
     },
     "execution_count": 9,
     "metadata": {},
     "output_type": "execute_result"
    }
   ],
   "source": [
    "feature_sort[0], feature_sort[-1]"
   ]
  },
  {
   "cell_type": "markdown",
   "metadata": {},
   "source": [
    "Feature number 52 is contributing the most to the classification of spam email. According to the NAMES database, this feature is the character \"$\". Feature number 26 is contributing less to the classification of spam email, which is the word \"hpl\"."
   ]
  },
  {
   "cell_type": "markdown",
   "metadata": {},
   "source": [
    "## Varying threshold "
   ]
  },
  {
   "cell_type": "code",
   "execution_count": 10,
   "metadata": {},
   "outputs": [
    {
     "data": {
      "text/plain": [
       "array([False,  True])"
      ]
     },
     "execution_count": 10,
     "metadata": {},
     "output_type": "execute_result"
    }
   ],
   "source": [
    "proba = logReg.predict_proba(X_test)\n",
    "logReg.classes_"
   ]
  },
  {
   "cell_type": "code",
   "execution_count": 11,
   "metadata": {},
   "outputs": [],
   "source": [
    "def get_prediction(T, proba):\n",
    "    result = []\n",
    "    for pred in proba:\n",
    "        if pred[0] > T:\n",
    "            result.append(False)\n",
    "        else:\n",
    "            result.append(True)\n",
    "    return result\n",
    "\n",
    "def get_accuracy(a1, a2):\n",
    "    assert len(a1) == len(a2)\n",
    "    diff = 0\n",
    "    for i in range(len(a1)):\n",
    "        if a1[i] != a2[i]:\n",
    "            diff += 1\n",
    "            \n",
    "    return 1 - diff/len(a1)"
   ]
  },
  {
   "cell_type": "code",
   "execution_count": 12,
   "metadata": {},
   "outputs": [],
   "source": [
    "ori = logReg.predict(X_test)\n",
    "test_labels = np.array(y_test)"
   ]
  },
  {
   "cell_type": "code",
   "execution_count": 13,
   "metadata": {},
   "outputs": [
    {
     "data": {
      "text/plain": [
       "0.9357080799304952"
      ]
     },
     "execution_count": 13,
     "metadata": {},
     "output_type": "execute_result"
    }
   ],
   "source": [
    "# Test accuracy on T = 0.5\n",
    "\n",
    "Tpoint5 = get_prediction(0.5, proba)\n",
    "get_accuracy(Tpoint5, test_labels)"
   ]
  },
  {
   "cell_type": "code",
   "execution_count": 15,
   "metadata": {},
   "outputs": [
    {
     "name": "stdout",
     "output_type": "stream",
     "text": [
      "Accuracy on threshold T= 0.1 is:  0.8496959165942659\n",
      "Accuracy on threshold T= 0.2 is:  0.89748045178106\n",
      "Accuracy on threshold T= 0.3 is:  0.9218071242397915\n",
      "Accuracy on threshold T= 0.4 is:  0.9313640312771503\n",
      "Accuracy on threshold T= 0.5 is:  0.9357080799304952\n",
      "Accuracy on threshold T= 0.6 is:  0.9365768896611641\n",
      "Accuracy on threshold T= 0.7 is:  0.9157254561251086\n",
      "Accuracy on threshold T= 0.8 is:  0.8592528236316247\n",
      "Accuracy on threshold T= 0.9 is:  0.7958297132927888\n"
     ]
    }
   ],
   "source": [
    "# Accuracy on each point of the threshold\n",
    "acc = []\n",
    "thres = [0.1, 0.2, 0.3, 0.4, 0.5, 0.6, 0.7, 0.8, 0.9]\n",
    "for T in thres:\n",
    "    pred = get_prediction(T, proba)\n",
    "    a = get_accuracy(pred, test_labels)\n",
    "    \n",
    "    print(\"Accuracy on threshold T=\", T, \"is: \", a)\n",
    "    acc.append(a)"
   ]
  },
  {
   "cell_type": "code",
   "execution_count": 16,
   "metadata": {
    "scrolled": true
   },
   "outputs": [
    {
     "data": {
      "text/plain": [
       "[<matplotlib.lines.Line2D at 0x7f1076a73630>]"
      ]
     },
     "execution_count": 16,
     "metadata": {},
     "output_type": "execute_result"
    },
    {
     "data": {
      "image/png": "[encoded data removed]",
      "text/plain": [
       "<Figure size 432x288 with 1 Axes>"
      ]
     },
     "metadata": {
      "needs_background": "light"
     },
     "output_type": "display_data"
    }
   ],
   "source": [
    " # Plotting graph on accuracy and T\n",
    "plt.plot(thres, acc)"
   ]
  },
  {
   "cell_type": "markdown",
   "metadata": {},
   "source": [
    "# Question 2: Classifiers comparison"
   ]
  },
  {
   "cell_type": "markdown",
   "metadata": {},
   "source": [
    "We will reuse the splitted dataset as Question 1. Logistic regression is trained in question 1, so we will continue with kNN, LDA and decision tree."
   ]
  },
  {
   "cell_type": "code",
   "execution_count": 30,
   "metadata": {},
   "outputs": [],
   "source": [
    "def get_training_score(model):\n",
    "    model.fit(X_train, y_train)\n",
    "    # accuracy \n",
    "    accuracy = model.score(X_test, y_test)\n",
    "    error = 1 - accuracy\n",
    "    \n",
    "    print(\"Accuracy:\", accuracy, \"error:\", error)"
   ]
  },
  {
   "cell_type": "markdown",
   "metadata": {},
   "source": [
    "## Experimenting kNN and 4 classifiers"
   ]
  },
  {
   "cell_type": "code",
   "execution_count": 36,
   "metadata": {},
   "outputs": [],
   "source": [
    "lda = LinearDiscriminantAnalysis()\n",
    "knn = KNeighborsClassifier(n_neighbors=7)\n",
    "decTree = DecisionTreeClassifier()"
   ]
  },
  {
   "cell_type": "markdown",
   "metadata": {},
   "source": [
    "Accuracy report on LDA"
   ]
  },
  {
   "cell_type": "code",
   "execution_count": 37,
   "metadata": {},
   "outputs": [
    {
     "name": "stdout",
     "output_type": "stream",
     "text": [
      "Accuracy: 0.9122502172024327 error: 0.08774978279756729\n"
     ]
    }
   ],
   "source": [
    "get_training_score(lda)"
   ]
  },
  {
   "cell_type": "markdown",
   "metadata": {},
   "source": [
    "Accuracy report on KNN"
   ]
  },
  {
   "cell_type": "code",
   "execution_count": 42,
   "metadata": {},
   "outputs": [
    {
     "name": "stdout",
     "output_type": "stream",
     "text": [
      "Accuracy: 0.7966985230234579 error: 0.2033014769765421\n",
      "Accuracy: 0.8027801911381407 error: 0.1972198088618593\n",
      "Accuracy: 0.7984361424847958 error: 0.20156385751520423\n",
      "Accuracy: 0.790616854908775 error: 0.20938314509122502\n",
      "Accuracy: 0.7836663770634231 error: 0.21633362293657687\n",
      "Accuracy: 0.7741094700260643 error: 0.22589052997393566\n",
      "Accuracy: 0.7715030408340573 error: 0.2284969591659427\n"
     ]
    }
   ],
   "source": [
    "neighbors = [2, 3, 4, 5, 6, 7, 9]\n",
    "for n in neighbors:\n",
    "    knn = KNeighborsClassifier(n_neighbors=n)\n",
    "    get_training_score(knn)"
   ]
  },
  {
   "cell_type": "markdown",
   "metadata": {},
   "source": [
    "On the number of neighbors, k = 3 returns the highest accuracy (80%) and lowest error (20%)."
   ]
  },
  {
   "cell_type": "markdown",
   "metadata": {},
   "source": [
    "Accuracy report on decision tree"
   ]
  },
  {
   "cell_type": "code",
   "execution_count": 39,
   "metadata": {},
   "outputs": [
    {
     "name": "stdout",
     "output_type": "stream",
     "text": [
      "Accuracy: 0.9113814074717637 error: 0.08861859252823634\n"
     ]
    }
   ],
   "source": [
    "get_training_score(decTree)"
   ]
  },
  {
   "cell_type": "markdown",
   "metadata": {},
   "source": [
    "Accuracy report on logistic regression"
   ]
  },
  {
   "cell_type": "code",
   "execution_count": 40,
   "metadata": {},
   "outputs": [
    {
     "name": "stdout",
     "output_type": "stream",
     "text": [
      "Accuracy: 0.9357080799304952 error: 0.0642919200695048\n"
     ]
    }
   ],
   "source": [
    "get_training_score(logReg)"
   ]
  },
  {
   "cell_type": "markdown",
   "metadata": {},
   "source": [
    "## ROC curve and AUC"
   ]
  },
  {
   "cell_type": "markdown",
   "metadata": {},
   "source": [
    "This piece of code is referenced from sklearn's own page [here](http://scikit-learn.org/stable/auto_examples/model_selection/plot_roc_crossval.html)"
   ]
  },
  {
   "cell_type": "code",
   "execution_count": 57,
   "metadata": {},
   "outputs": [],
   "source": [
    "def draw_roc(model):\n",
    "    y_pred = model.predict(X_test)\n",
    "    fpr, tpr, threshold = roc_curve(y_true=y_test, y_score=y_pred)\n",
    "    roc_auc = auc(fpr, tpr)\n",
    "    plt.plot(fpr, tpr, 'g', label = 'AUC = %0.2f' % roc_auc)\n",
    "    plt.legend(loc = 'lower right')\n",
    "    plt.plot([0, 1], [0, 1],'r--')\n",
    "    plt.xlim([0, 1])\n",
    "    plt.ylim([0, 1])\n",
    "    plt.ylabel('True Positive Rate')\n",
    "    plt.xlabel('False Positive Rate')\n",
    "    plt.show()"
   ]
  },
  {
   "cell_type": "code",
   "execution_count": 58,
   "metadata": {},
   "outputs": [
    {
     "data": {
      "image/png": "[encoded data removed]",
      "text/plain": [
       "<Figure size 432x288 with 1 Axes>"
      ]
     },
     "metadata": {
      "needs_background": "light"
     },
     "output_type": "display_data"
    }
   ],
   "source": [
    "draw_roc(logReg)"
   ]
  },
  {
   "cell_type": "code",
   "execution_count": 59,
   "metadata": {},
   "outputs": [
    {
     "data": {
      "image/png": "[encoded data removed]",
      "text/plain": [
       "<Figure size 432x288 with 1 Axes>"
      ]
     },
     "metadata": {
      "needs_background": "light"
     },
     "output_type": "display_data"
    }
   ],
   "source": [
    "draw_roc(lda)"
   ]
  },
  {
   "cell_type": "code",
   "execution_count": 60,
   "metadata": {},
   "outputs": [
    {
     "data": {
      "image/png": "[encoded data removed]",
      "text/plain": [
       "<Figure size 432x288 with 1 Axes>"
      ]
     },
     "metadata": {
      "needs_background": "light"
     },
     "output_type": "display_data"
    }
   ],
   "source": [
    "draw_roc(knn)"
   ]
  },
  {
   "cell_type": "code",
   "execution_count": 61,
   "metadata": {},
   "outputs": [
    {
     "data": {
      "image/png": "[encoded data removed]",
      "text/plain": [
       "<Figure size 432x288 with 1 Axes>"
      ]
     },
     "metadata": {
      "needs_background": "light"
     },
     "output_type": "display_data"
    }
   ],
   "source": [
    "draw_roc(decTree)"
   ]
  },
  {
   "cell_type": "markdown",
   "metadata": {},
   "source": [
    "# Question 3: kNN"
   ]
  },
  {
   "cell_type": "markdown",
   "metadata": {},
   "source": [
    "The euclidean distance can be calculated using `numpy.linalg.norm` function on the subtraction of 2 vectors"
   ]
  },
  {
   "cell_type": "code",
   "execution_count": 88,
   "metadata": {},
   "outputs": [],
   "source": [
    "import heapq\n",
    "\n",
    "class BinaryKNNClassifier:\n",
    "    def __init__(self, labels=[False, True], n_neighbors=5):\n",
    "        self.labels = labels\n",
    "        self.n_neighbors = n_neighbors\n",
    "    \n",
    "    def fit(self, X, y):\n",
    "        self.X = X\n",
    "        self.y = y\n",
    "    \n",
    "    def euclideanDistance(self, p1, p2):\n",
    "        return np.linalg.norm(p1 - p2)\n",
    "    \n",
    "    def predict_instance_proba(self, test):\n",
    "        distances = []\n",
    "        heapq.heapify(distances)\n",
    "\n",
    "        for idx, train in self.X.iterrows():\n",
    "            dist = self.euclideanDistance(test, train)\n",
    "            if len(distances) < self.n_neighbors:\n",
    "                heapq.heappush(distances, (-dist, self.y.loc[idx]))\n",
    "            elif distances[0][0] <= -dist:\n",
    "                heapq.heapreplace(distances, (-dist, self.y.loc[idx]))\n",
    "\n",
    "\n",
    "        r = [0] * len(self.labels)\n",
    "        for n in distances:\n",
    "            r[n[1]] += 1\n",
    "        return [x * 1.0/self.n_neighbors for x in r]\n",
    "    \n",
    "    def predict_all_proba(self, test_set):\n",
    "        result = []\n",
    "        for i, test in test_set.iterrows():\n",
    "            result.append(self.predict_instance_proba(test))\n",
    "        return result"
   ]
  },
  {
   "cell_type": "code",
   "execution_count": 91,
   "metadata": {},
   "outputs": [],
   "source": [
    "# Testing\n",
    "knnBinary = BinaryKNNClassifier(n_neighbors=5)"
   ]
  },
  {
   "cell_type": "code",
   "execution_count": null,
   "metadata": {},
   "outputs": [],
   "source": [
    "knnBinary.fit(X_train, y_train)\n",
    "pred = knnBinary.predict_all_proba(X_test)"
   ]
  },
  {
   "cell_type": "code",
   "execution_count": 93,
   "metadata": {},
   "outputs": [
    {
     "data": {
      "text/plain": [
       "array([[0.6, 0.4],\n",
       "       [1. , 0. ],\n",
       "       [0.6, 0.4],\n",
       "       [1. , 0. ],\n",
       "       [1. , 0. ],\n",
       "       [0.4, 0.6],\n",
       "       [1. , 0. ],\n",
       "       [0.2, 0.8],\n",
       "       [1. , 0. ],\n",
       "       [1. , 0. ]])"
      ]
     },
     "execution_count": 93,
     "metadata": {},
     "output_type": "execute_result"
    }
   ],
   "source": [
    "knn = KNeighborsClassifier(n_neighbors=5)\n",
    "knn.fit(X_train, y_train)\n",
    "knn.predict_proba(X_test[:10])"
   ]
  },
  {
   "cell_type": "code",
   "execution_count": null,
   "metadata": {},
   "outputs": [],
   "source": []
  }
 ],
 "metadata": {
  "kernelspec": {
   "display_name": "Python 3",
   "language": "python",
   "name": "python3"
  },
  "language_info": {
   "codemirror_mode": {
    "name": "ipython",
    "version": 3
   },
   "file_extension": ".py",
   "mimetype": "text/x-python",
   "name": "python",
   "nbconvert_exporter": "python",
   "pygments_lexer": "ipython3",
   "version": "3.6.6"
  }
 },
 "nbformat": 4,
 "nbformat_minor": 2
}
